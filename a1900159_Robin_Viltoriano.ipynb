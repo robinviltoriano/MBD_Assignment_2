{
 "cells": [
  {
   "cell_type": "markdown",
   "metadata": {},
   "source": [
    "# Assignment 2\n",
    "# a1900159 / Robin Viltoriano\n",
    "\n",
    "in this case I'm going to use user-to-user collaborative filtering to recommend items to users. Since item-to-item similarity requires features for each item."
   ]
  },
  {
   "cell_type": "markdown",
   "metadata": {},
   "source": [
    "# Library"
   ]
  },
  {
   "cell_type": "code",
   "execution_count": null,
   "metadata": {},
   "outputs": [],
   "source": [
    "# !pip install implicit"
   ]
  },
  {
   "cell_type": "code",
   "execution_count": 22,
   "metadata": {},
   "outputs": [],
   "source": [
    "import pandas as pd\n",
    "import numpy as np\n",
    "import matplotlib.pyplot as plt\n",
    "import time\n",
    "import itertools\n",
    "from tqdm import tqdm \n",
    "\n",
    "import scipy.sparse as sparse\n",
    "\n",
    "import implicit\n",
    "from implicit.evaluation import mean_average_precision_at_k, ndcg_at_k\n"
   ]
  },
  {
   "cell_type": "markdown",
   "metadata": {},
   "source": [
    "# Load Data"
   ]
  },
  {
   "cell_type": "code",
   "execution_count": 2,
   "metadata": {},
   "outputs": [
    {
     "name": "stdout",
     "output_type": "stream",
     "text": [
      "Data Train Head\n"
     ]
    },
    {
     "data": {
      "text/html": [
       "<div>\n",
       "<style scoped>\n",
       "    .dataframe tbody tr th:only-of-type {\n",
       "        vertical-align: middle;\n",
       "    }\n",
       "\n",
       "    .dataframe tbody tr th {\n",
       "        vertical-align: top;\n",
       "    }\n",
       "\n",
       "    .dataframe thead th {\n",
       "        text-align: right;\n",
       "    }\n",
       "</style>\n",
       "<table border=\"1\" class=\"dataframe\">\n",
       "  <thead>\n",
       "    <tr style=\"text-align: right;\">\n",
       "      <th></th>\n",
       "      <th>BillNo</th>\n",
       "      <th>Itemname</th>\n",
       "      <th>Quantity</th>\n",
       "      <th>Date</th>\n",
       "      <th>Price</th>\n",
       "      <th>CustomerID</th>\n",
       "      <th>cost</th>\n",
       "    </tr>\n",
       "  </thead>\n",
       "  <tbody>\n",
       "    <tr>\n",
       "      <th>0</th>\n",
       "      <td>536365</td>\n",
       "      <td>KNITTED UNION FLAG HOT WATER BOTTLE</td>\n",
       "      <td>6</td>\n",
       "      <td>1/12/2010 8:26</td>\n",
       "      <td>3.39</td>\n",
       "      <td>17850</td>\n",
       "      <td>20.34</td>\n",
       "    </tr>\n",
       "    <tr>\n",
       "      <th>1</th>\n",
       "      <td>536365</td>\n",
       "      <td>GLASS STAR FROSTED T-LIGHT HOLDER</td>\n",
       "      <td>6</td>\n",
       "      <td>1/12/2010 8:26</td>\n",
       "      <td>4.25</td>\n",
       "      <td>17850</td>\n",
       "      <td>25.50</td>\n",
       "    </tr>\n",
       "    <tr>\n",
       "      <th>2</th>\n",
       "      <td>536365</td>\n",
       "      <td>WHITE HANGING HEART T-LIGHT HOLDER</td>\n",
       "      <td>6</td>\n",
       "      <td>1/12/2010 8:26</td>\n",
       "      <td>2.55</td>\n",
       "      <td>17850</td>\n",
       "      <td>15.30</td>\n",
       "    </tr>\n",
       "    <tr>\n",
       "      <th>3</th>\n",
       "      <td>536365</td>\n",
       "      <td>RED WOOLLY HOTTIE WHITE HEART.</td>\n",
       "      <td>6</td>\n",
       "      <td>1/12/2010 8:26</td>\n",
       "      <td>3.39</td>\n",
       "      <td>17850</td>\n",
       "      <td>20.34</td>\n",
       "    </tr>\n",
       "    <tr>\n",
       "      <th>4</th>\n",
       "      <td>536365</td>\n",
       "      <td>SET 7 BABUSHKA NESTING BOXES</td>\n",
       "      <td>2</td>\n",
       "      <td>1/12/2010 8:26</td>\n",
       "      <td>7.65</td>\n",
       "      <td>17850</td>\n",
       "      <td>15.30</td>\n",
       "    </tr>\n",
       "  </tbody>\n",
       "</table>\n",
       "</div>"
      ],
      "text/plain": [
       "   BillNo                             Itemname  Quantity            Date  \\\n",
       "0  536365  KNITTED UNION FLAG HOT WATER BOTTLE         6  1/12/2010 8:26   \n",
       "1  536365    GLASS STAR FROSTED T-LIGHT HOLDER         6  1/12/2010 8:26   \n",
       "2  536365   WHITE HANGING HEART T-LIGHT HOLDER         6  1/12/2010 8:26   \n",
       "3  536365       RED WOOLLY HOTTIE WHITE HEART.         6  1/12/2010 8:26   \n",
       "4  536365         SET 7 BABUSHKA NESTING BOXES         2  1/12/2010 8:26   \n",
       "\n",
       "   Price  CustomerID   cost  \n",
       "0   3.39       17850  20.34  \n",
       "1   4.25       17850  25.50  \n",
       "2   2.55       17850  15.30  \n",
       "3   3.39       17850  20.34  \n",
       "4   7.65       17850  15.30  "
      ]
     },
     "metadata": {},
     "output_type": "display_data"
    },
    {
     "name": "stdout",
     "output_type": "stream",
     "text": [
      "Data Test Head\n"
     ]
    },
    {
     "data": {
      "text/html": [
       "<div>\n",
       "<style scoped>\n",
       "    .dataframe tbody tr th:only-of-type {\n",
       "        vertical-align: middle;\n",
       "    }\n",
       "\n",
       "    .dataframe tbody tr th {\n",
       "        vertical-align: top;\n",
       "    }\n",
       "\n",
       "    .dataframe thead th {\n",
       "        text-align: right;\n",
       "    }\n",
       "</style>\n",
       "<table border=\"1\" class=\"dataframe\">\n",
       "  <thead>\n",
       "    <tr style=\"text-align: right;\">\n",
       "      <th></th>\n",
       "      <th>BillNo</th>\n",
       "      <th>Itemname</th>\n",
       "      <th>Quantity</th>\n",
       "      <th>Date</th>\n",
       "      <th>Price</th>\n",
       "      <th>CustomerID</th>\n",
       "      <th>cost</th>\n",
       "    </tr>\n",
       "  </thead>\n",
       "  <tbody>\n",
       "    <tr>\n",
       "      <th>0</th>\n",
       "      <td>544398.0</td>\n",
       "      <td>JUMBO SHOPPER VINTAGE RED PAISLEY</td>\n",
       "      <td>1.0</td>\n",
       "      <td>18/02/2011 12:27</td>\n",
       "      <td>1.95</td>\n",
       "      <td>15311.0</td>\n",
       "      <td>1.95</td>\n",
       "    </tr>\n",
       "    <tr>\n",
       "      <th>1</th>\n",
       "      <td>544398.0</td>\n",
       "      <td>ZINC WILLIE WINKIE  CANDLE STICK</td>\n",
       "      <td>4.0</td>\n",
       "      <td>18/02/2011 12:27</td>\n",
       "      <td>0.85</td>\n",
       "      <td>15311.0</td>\n",
       "      <td>3.40</td>\n",
       "    </tr>\n",
       "    <tr>\n",
       "      <th>2</th>\n",
       "      <td>544398.0</td>\n",
       "      <td>LOVE BUILDING BLOCK WORD</td>\n",
       "      <td>2.0</td>\n",
       "      <td>18/02/2011 12:27</td>\n",
       "      <td>5.95</td>\n",
       "      <td>15311.0</td>\n",
       "      <td>11.90</td>\n",
       "    </tr>\n",
       "    <tr>\n",
       "      <th>3</th>\n",
       "      <td>544398.0</td>\n",
       "      <td>HANGING FAIRY CAKE DECORATION</td>\n",
       "      <td>3.0</td>\n",
       "      <td>18/02/2011 12:27</td>\n",
       "      <td>2.10</td>\n",
       "      <td>15311.0</td>\n",
       "      <td>6.30</td>\n",
       "    </tr>\n",
       "    <tr>\n",
       "      <th>4</th>\n",
       "      <td>544398.0</td>\n",
       "      <td>RED HEART SHAPE LOVE BUCKET</td>\n",
       "      <td>1.0</td>\n",
       "      <td>18/02/2011 12:27</td>\n",
       "      <td>2.95</td>\n",
       "      <td>15311.0</td>\n",
       "      <td>2.95</td>\n",
       "    </tr>\n",
       "  </tbody>\n",
       "</table>\n",
       "</div>"
      ],
      "text/plain": [
       "     BillNo                           Itemname  Quantity              Date  \\\n",
       "0  544398.0  JUMBO SHOPPER VINTAGE RED PAISLEY       1.0  18/02/2011 12:27   \n",
       "1  544398.0   ZINC WILLIE WINKIE  CANDLE STICK       4.0  18/02/2011 12:27   \n",
       "2  544398.0           LOVE BUILDING BLOCK WORD       2.0  18/02/2011 12:27   \n",
       "3  544398.0      HANGING FAIRY CAKE DECORATION       3.0  18/02/2011 12:27   \n",
       "4  544398.0        RED HEART SHAPE LOVE BUCKET       1.0  18/02/2011 12:27   \n",
       "\n",
       "   Price  CustomerID   cost  \n",
       "0   1.95     15311.0   1.95  \n",
       "1   0.85     15311.0   3.40  \n",
       "2   5.95     15311.0  11.90  \n",
       "3   2.10     15311.0   6.30  \n",
       "4   2.95     15311.0   2.95  "
      ]
     },
     "metadata": {},
     "output_type": "display_data"
    },
    {
     "name": "stdout",
     "output_type": "stream",
     "text": [
      "Train shape: (40000, 7)\n",
      "Tets shape: (40000, 7)\n",
      "\n",
      "Train info\n",
      "<class 'pandas.core.frame.DataFrame'>\n",
      "RangeIndex: 40000 entries, 0 to 39999\n",
      "Data columns (total 7 columns):\n",
      " #   Column      Non-Null Count  Dtype  \n",
      "---  ------      --------------  -----  \n",
      " 0   BillNo      40000 non-null  int64  \n",
      " 1   Itemname    40000 non-null  object \n",
      " 2   Quantity    40000 non-null  int64  \n",
      " 3   Date        40000 non-null  object \n",
      " 4   Price       40000 non-null  float64\n",
      " 5   CustomerID  40000 non-null  int64  \n",
      " 6   cost        40000 non-null  float64\n",
      "dtypes: float64(2), int64(3), object(2)\n",
      "memory usage: 2.1+ MB\n"
     ]
    },
    {
     "data": {
      "text/plain": [
       "None"
      ]
     },
     "metadata": {},
     "output_type": "display_data"
    },
    {
     "name": "stdout",
     "output_type": "stream",
     "text": [
      "Test info\n",
      "<class 'pandas.core.frame.DataFrame'>\n",
      "RangeIndex: 40000 entries, 0 to 39999\n",
      "Data columns (total 7 columns):\n",
      " #   Column      Non-Null Count  Dtype  \n",
      "---  ------      --------------  -----  \n",
      " 0   BillNo      10000 non-null  float64\n",
      " 1   Itemname    10000 non-null  object \n",
      " 2   Quantity    10000 non-null  float64\n",
      " 3   Date        10000 non-null  object \n",
      " 4   Price       10000 non-null  float64\n",
      " 5   CustomerID  10000 non-null  float64\n",
      " 6   cost        10000 non-null  float64\n",
      "dtypes: float64(5), object(2)\n",
      "memory usage: 2.1+ MB\n"
     ]
    },
    {
     "data": {
      "text/plain": [
       "None"
      ]
     },
     "metadata": {},
     "output_type": "display_data"
    }
   ],
   "source": [
    "df_train = pd.read_csv('dataset/basket_data_by_date_train.csv')\n",
    "df_test = pd.read_csv('dataset/basket_data_by_date_test.csv')\n",
    "\n",
    "print('Data Train Head')\n",
    "display(df_train.head())\n",
    "\n",
    "print('Data Test Head')\n",
    "display(df_test.head())\n",
    "\n",
    "print(f'Train shape: {df_train.shape}')\n",
    "print(f'Tets shape: {df_test.shape}\\n')\n",
    "\n",
    "print('Train info')\n",
    "display(df_train.info())\n",
    "print('Test info')\n",
    "display(df_test.info())\n"
   ]
  },
  {
   "cell_type": "markdown",
   "metadata": {},
   "source": [
    "# Exploratory Data Analysis"
   ]
  },
  {
   "cell_type": "markdown",
   "metadata": {},
   "source": [
    "## Check Missing Value"
   ]
  },
  {
   "cell_type": "code",
   "execution_count": 3,
   "metadata": {},
   "outputs": [
    {
     "name": "stdout",
     "output_type": "stream",
     "text": [
      "Data Train\n"
     ]
    },
    {
     "data": {
      "text/plain": [
       "BillNo        0\n",
       "Itemname      0\n",
       "Quantity      0\n",
       "Date          0\n",
       "Price         0\n",
       "CustomerID    0\n",
       "cost          0\n",
       "dtype: int64"
      ]
     },
     "metadata": {},
     "output_type": "display_data"
    },
    {
     "name": "stdout",
     "output_type": "stream",
     "text": [
      "Data Test\n"
     ]
    },
    {
     "data": {
      "text/plain": [
       "BillNo        30000\n",
       "Itemname      30000\n",
       "Quantity      30000\n",
       "Date          30000\n",
       "Price         30000\n",
       "CustomerID    30000\n",
       "cost          30000\n",
       "dtype: int64"
      ]
     },
     "metadata": {},
     "output_type": "display_data"
    }
   ],
   "source": [
    "print('Data Train')\n",
    "display(df_train.isna().sum())\n",
    "\n",
    "print('Data Test')\n",
    "display(df_test.isna().sum())"
   ]
  },
  {
   "cell_type": "markdown",
   "metadata": {},
   "source": [
    "We could see that there are 30000 missing value in the test dataset. \n",
    "\n",
    "Next, check if the missing value are happening for all column or not."
   ]
  },
  {
   "cell_type": "code",
   "execution_count": 12,
   "metadata": {},
   "outputs": [
    {
     "data": {
      "text/html": [
       "<div>\n",
       "<style scoped>\n",
       "    .dataframe tbody tr th:only-of-type {\n",
       "        vertical-align: middle;\n",
       "    }\n",
       "\n",
       "    .dataframe tbody tr th {\n",
       "        vertical-align: top;\n",
       "    }\n",
       "\n",
       "    .dataframe thead th {\n",
       "        text-align: right;\n",
       "    }\n",
       "</style>\n",
       "<table border=\"1\" class=\"dataframe\">\n",
       "  <thead>\n",
       "    <tr style=\"text-align: right;\">\n",
       "      <th></th>\n",
       "      <th>BillNo</th>\n",
       "      <th>Itemname</th>\n",
       "      <th>Quantity</th>\n",
       "      <th>Date</th>\n",
       "      <th>Price</th>\n",
       "      <th>CustomerID</th>\n",
       "      <th>cost</th>\n",
       "    </tr>\n",
       "  </thead>\n",
       "  <tbody>\n",
       "    <tr>\n",
       "      <th>10000</th>\n",
       "      <td>NaN</td>\n",
       "      <td>NaN</td>\n",
       "      <td>NaN</td>\n",
       "      <td>NaN</td>\n",
       "      <td>NaN</td>\n",
       "      <td>NaN</td>\n",
       "      <td>NaN</td>\n",
       "    </tr>\n",
       "    <tr>\n",
       "      <th>10001</th>\n",
       "      <td>NaN</td>\n",
       "      <td>NaN</td>\n",
       "      <td>NaN</td>\n",
       "      <td>NaN</td>\n",
       "      <td>NaN</td>\n",
       "      <td>NaN</td>\n",
       "      <td>NaN</td>\n",
       "    </tr>\n",
       "    <tr>\n",
       "      <th>10002</th>\n",
       "      <td>NaN</td>\n",
       "      <td>NaN</td>\n",
       "      <td>NaN</td>\n",
       "      <td>NaN</td>\n",
       "      <td>NaN</td>\n",
       "      <td>NaN</td>\n",
       "      <td>NaN</td>\n",
       "    </tr>\n",
       "    <tr>\n",
       "      <th>10003</th>\n",
       "      <td>NaN</td>\n",
       "      <td>NaN</td>\n",
       "      <td>NaN</td>\n",
       "      <td>NaN</td>\n",
       "      <td>NaN</td>\n",
       "      <td>NaN</td>\n",
       "      <td>NaN</td>\n",
       "    </tr>\n",
       "    <tr>\n",
       "      <th>10004</th>\n",
       "      <td>NaN</td>\n",
       "      <td>NaN</td>\n",
       "      <td>NaN</td>\n",
       "      <td>NaN</td>\n",
       "      <td>NaN</td>\n",
       "      <td>NaN</td>\n",
       "      <td>NaN</td>\n",
       "    </tr>\n",
       "    <tr>\n",
       "      <th>...</th>\n",
       "      <td>...</td>\n",
       "      <td>...</td>\n",
       "      <td>...</td>\n",
       "      <td>...</td>\n",
       "      <td>...</td>\n",
       "      <td>...</td>\n",
       "      <td>...</td>\n",
       "    </tr>\n",
       "    <tr>\n",
       "      <th>39995</th>\n",
       "      <td>NaN</td>\n",
       "      <td>NaN</td>\n",
       "      <td>NaN</td>\n",
       "      <td>NaN</td>\n",
       "      <td>NaN</td>\n",
       "      <td>NaN</td>\n",
       "      <td>NaN</td>\n",
       "    </tr>\n",
       "    <tr>\n",
       "      <th>39996</th>\n",
       "      <td>NaN</td>\n",
       "      <td>NaN</td>\n",
       "      <td>NaN</td>\n",
       "      <td>NaN</td>\n",
       "      <td>NaN</td>\n",
       "      <td>NaN</td>\n",
       "      <td>NaN</td>\n",
       "    </tr>\n",
       "    <tr>\n",
       "      <th>39997</th>\n",
       "      <td>NaN</td>\n",
       "      <td>NaN</td>\n",
       "      <td>NaN</td>\n",
       "      <td>NaN</td>\n",
       "      <td>NaN</td>\n",
       "      <td>NaN</td>\n",
       "      <td>NaN</td>\n",
       "    </tr>\n",
       "    <tr>\n",
       "      <th>39998</th>\n",
       "      <td>NaN</td>\n",
       "      <td>NaN</td>\n",
       "      <td>NaN</td>\n",
       "      <td>NaN</td>\n",
       "      <td>NaN</td>\n",
       "      <td>NaN</td>\n",
       "      <td>NaN</td>\n",
       "    </tr>\n",
       "    <tr>\n",
       "      <th>39999</th>\n",
       "      <td>NaN</td>\n",
       "      <td>NaN</td>\n",
       "      <td>NaN</td>\n",
       "      <td>NaN</td>\n",
       "      <td>NaN</td>\n",
       "      <td>NaN</td>\n",
       "      <td>NaN</td>\n",
       "    </tr>\n",
       "  </tbody>\n",
       "</table>\n",
       "<p>30000 rows × 7 columns</p>\n",
       "</div>"
      ],
      "text/plain": [
       "       BillNo Itemname  Quantity Date  Price  CustomerID  cost\n",
       "10000     NaN      NaN       NaN  NaN    NaN         NaN   NaN\n",
       "10001     NaN      NaN       NaN  NaN    NaN         NaN   NaN\n",
       "10002     NaN      NaN       NaN  NaN    NaN         NaN   NaN\n",
       "10003     NaN      NaN       NaN  NaN    NaN         NaN   NaN\n",
       "10004     NaN      NaN       NaN  NaN    NaN         NaN   NaN\n",
       "...       ...      ...       ...  ...    ...         ...   ...\n",
       "39995     NaN      NaN       NaN  NaN    NaN         NaN   NaN\n",
       "39996     NaN      NaN       NaN  NaN    NaN         NaN   NaN\n",
       "39997     NaN      NaN       NaN  NaN    NaN         NaN   NaN\n",
       "39998     NaN      NaN       NaN  NaN    NaN         NaN   NaN\n",
       "39999     NaN      NaN       NaN  NaN    NaN         NaN   NaN\n",
       "\n",
       "[30000 rows x 7 columns]"
      ]
     },
     "execution_count": 12,
     "metadata": {},
     "output_type": "execute_result"
    }
   ],
   "source": [
    "df_test.loc[df_test.isna().all(axis=1)]\n"
   ]
  },
  {
   "cell_type": "markdown",
   "metadata": {},
   "source": [
    "All 30.000 rows are missing, thus it will be deleted."
   ]
  },
  {
   "cell_type": "markdown",
   "metadata": {},
   "source": [
    "## Data Cleaning"
   ]
  },
  {
   "cell_type": "code",
   "execution_count": 3,
   "metadata": {},
   "outputs": [],
   "source": [
    "def clean_data(dataframe):\n",
    "    \"\"\"\n",
    "    This function takes the dataframe and will inplace cleaned the data\n",
    "    \"\"\"\n",
    "    # change BillNo, CustomerID to string\n",
    "    dataframe['BillNo'] = dataframe['BillNo'].astype(str)\n",
    "    dataframe['CustomerID'] = dataframe['CustomerID'].astype(str)\n",
    "    \n",
    "    #delete the '.0' in the CustomerID\n",
    "    dataframe['CustomerID'] = dataframe['CustomerID'].str.replace('.0', '', regex=False)\n",
    "    \n",
    "    #change Date to datetime\n",
    "    dataframe['Date'] = pd.to_datetime(dataframe['Date'], format='%d/%m/%Y %H:%M')\n",
    "    \n",
    "    # drop NaN values since it is all NaN for all columns in the test data\n",
    "    dataframe.dropna(inplace=True)"
   ]
  },
  {
   "cell_type": "code",
   "execution_count": 4,
   "metadata": {},
   "outputs": [
    {
     "name": "stdout",
     "output_type": "stream",
     "text": [
      "Original Train Shape: (40000, 7)\n",
      "Original Test Shape: (40000, 7)\n",
      "\n",
      "Clean Train Shape: (40000, 7)\n",
      "Clean Test Shape: (10000, 7)\n",
      "\n"
     ]
    },
    {
     "data": {
      "text/html": [
       "<div>\n",
       "<style scoped>\n",
       "    .dataframe tbody tr th:only-of-type {\n",
       "        vertical-align: middle;\n",
       "    }\n",
       "\n",
       "    .dataframe tbody tr th {\n",
       "        vertical-align: top;\n",
       "    }\n",
       "\n",
       "    .dataframe thead th {\n",
       "        text-align: right;\n",
       "    }\n",
       "</style>\n",
       "<table border=\"1\" class=\"dataframe\">\n",
       "  <thead>\n",
       "    <tr style=\"text-align: right;\">\n",
       "      <th></th>\n",
       "      <th>BillNo</th>\n",
       "      <th>Itemname</th>\n",
       "      <th>Quantity</th>\n",
       "      <th>Date</th>\n",
       "      <th>Price</th>\n",
       "      <th>CustomerID</th>\n",
       "      <th>cost</th>\n",
       "    </tr>\n",
       "  </thead>\n",
       "  <tbody>\n",
       "    <tr>\n",
       "      <th>0</th>\n",
       "      <td>536365</td>\n",
       "      <td>KNITTED UNION FLAG HOT WATER BOTTLE</td>\n",
       "      <td>6</td>\n",
       "      <td>2010-12-01 08:26:00</td>\n",
       "      <td>3.39</td>\n",
       "      <td>17850</td>\n",
       "      <td>20.34</td>\n",
       "    </tr>\n",
       "    <tr>\n",
       "      <th>1</th>\n",
       "      <td>536365</td>\n",
       "      <td>GLASS STAR FROSTED T-LIGHT HOLDER</td>\n",
       "      <td>6</td>\n",
       "      <td>2010-12-01 08:26:00</td>\n",
       "      <td>4.25</td>\n",
       "      <td>17850</td>\n",
       "      <td>25.50</td>\n",
       "    </tr>\n",
       "    <tr>\n",
       "      <th>2</th>\n",
       "      <td>536365</td>\n",
       "      <td>WHITE HANGING HEART T-LIGHT HOLDER</td>\n",
       "      <td>6</td>\n",
       "      <td>2010-12-01 08:26:00</td>\n",
       "      <td>2.55</td>\n",
       "      <td>17850</td>\n",
       "      <td>15.30</td>\n",
       "    </tr>\n",
       "    <tr>\n",
       "      <th>3</th>\n",
       "      <td>536365</td>\n",
       "      <td>RED WOOLLY HOTTIE WHITE HEART.</td>\n",
       "      <td>6</td>\n",
       "      <td>2010-12-01 08:26:00</td>\n",
       "      <td>3.39</td>\n",
       "      <td>17850</td>\n",
       "      <td>20.34</td>\n",
       "    </tr>\n",
       "    <tr>\n",
       "      <th>4</th>\n",
       "      <td>536365</td>\n",
       "      <td>SET 7 BABUSHKA NESTING BOXES</td>\n",
       "      <td>2</td>\n",
       "      <td>2010-12-01 08:26:00</td>\n",
       "      <td>7.65</td>\n",
       "      <td>17850</td>\n",
       "      <td>15.30</td>\n",
       "    </tr>\n",
       "  </tbody>\n",
       "</table>\n",
       "</div>"
      ],
      "text/plain": [
       "   BillNo                             Itemname  Quantity                Date  \\\n",
       "0  536365  KNITTED UNION FLAG HOT WATER BOTTLE         6 2010-12-01 08:26:00   \n",
       "1  536365    GLASS STAR FROSTED T-LIGHT HOLDER         6 2010-12-01 08:26:00   \n",
       "2  536365   WHITE HANGING HEART T-LIGHT HOLDER         6 2010-12-01 08:26:00   \n",
       "3  536365       RED WOOLLY HOTTIE WHITE HEART.         6 2010-12-01 08:26:00   \n",
       "4  536365         SET 7 BABUSHKA NESTING BOXES         2 2010-12-01 08:26:00   \n",
       "\n",
       "   Price CustomerID   cost  \n",
       "0   3.39      17850  20.34  \n",
       "1   4.25      17850  25.50  \n",
       "2   2.55      17850  15.30  \n",
       "3   3.39      17850  20.34  \n",
       "4   7.65      17850  15.30  "
      ]
     },
     "metadata": {},
     "output_type": "display_data"
    }
   ],
   "source": [
    "print(f\"Original Train Shape: {df_train.shape}\")\n",
    "print(f'Original Test Shape: {df_test.shape}\\n')\n",
    "clean_data(df_train)\n",
    "clean_data(df_test)\n",
    "\n",
    "print(f\"Clean Train Shape: {df_train.shape}\")\n",
    "print(f\"Clean Test Shape: {df_test.shape}\\n\")\n",
    "\n",
    "display(df_train.head())"
   ]
  },
  {
   "cell_type": "markdown",
   "metadata": {},
   "source": [
    "## Min and Max Date"
   ]
  },
  {
   "cell_type": "code",
   "execution_count": 15,
   "metadata": {},
   "outputs": [
    {
     "name": "stdout",
     "output_type": "stream",
     "text": [
      "Train Data\n",
      "Min Date: 2010-12-01 08:26:00\n",
      "Max Date: 2011-02-18 12:27:00\n",
      "\n",
      "Test Data\n",
      "Min Date: 2011-02-18 12:27:00\n",
      "Max Date: 2011-03-09 11:28:00\n"
     ]
    }
   ],
   "source": [
    "print('Train Data')\n",
    "print(f\"Min Date: {df_train.Date.min()}\")\n",
    "print(f\"Max Date: {df_train.Date.max()}\\n\")\n",
    "\n",
    "print('Test Data')\n",
    "print(f\"Min Date: {df_test.Date.min()}\")\n",
    "print(f\"Max Date: {df_test.Date.max()}\")"
   ]
  },
  {
   "cell_type": "markdown",
   "metadata": {},
   "source": [
    "As we can see, train and test dataset have different date range and there are no overlapping date between train and test dataset."
   ]
  },
  {
   "cell_type": "markdown",
   "metadata": {},
   "source": [
    "# User Analysis"
   ]
  },
  {
   "cell_type": "markdown",
   "metadata": {},
   "source": [
    "## Count Unique Customer"
   ]
  },
  {
   "cell_type": "code",
   "execution_count": null,
   "metadata": {},
   "outputs": [
    {
     "name": "stdout",
     "output_type": "stream",
     "text": [
      "Train Data\n",
      "Num of Unique Customer: 1391\n",
      "\n",
      "Test Data\n",
      "Num of Unique Customer: 519\n",
      "\n",
      "All Data\n",
      "Num of Unique Customer: 1660\n"
     ]
    }
   ],
   "source": [
    "print('Train Data')\n",
    "print(f\"Num of Unique Customer: {df_train.CustomerID.nunique()}\\n\")\n",
    "\n",
    "print(\"Test Data\")\n",
    "print(f\"Num of Unique Customer: {df_test.CustomerID.nunique()}\\n\")\n",
    "\n",
    "print(\"All Data\")\n",
    "print(f\"Num of Unique Customer: {pd.concat([df_train, df_test]).CustomerID.nunique()}\")"
   ]
  },
  {
   "cell_type": "code",
   "execution_count": 5,
   "metadata": {},
   "outputs": [
    {
     "name": "stdout",
     "output_type": "stream",
     "text": [
      "Number of Customer in test but not in train: 269\n"
     ]
    }
   ],
   "source": [
    "train_cust = df_train.CustomerID.str.lower().unique()\n",
    "test_cust = df_test.CustomerID.str.lower().unique()  \n",
    "\n",
    "test_not_in_train_cust = len([x for x in test_cust if x not in train_cust])\n",
    "print(f\"Number of Customer in test but not in train: {test_not_in_train_cust}\")"
   ]
  },
  {
   "cell_type": "code",
   "execution_count": 10,
   "metadata": {},
   "outputs": [
    {
     "data": {
      "text/html": [
       "<div>\n",
       "<style scoped>\n",
       "    .dataframe tbody tr th:only-of-type {\n",
       "        vertical-align: middle;\n",
       "    }\n",
       "\n",
       "    .dataframe tbody tr th {\n",
       "        vertical-align: top;\n",
       "    }\n",
       "\n",
       "    .dataframe thead th {\n",
       "        text-align: right;\n",
       "    }\n",
       "</style>\n",
       "<table border=\"1\" class=\"dataframe\">\n",
       "  <thead>\n",
       "    <tr style=\"text-align: right;\">\n",
       "      <th></th>\n",
       "      <th>BillNo</th>\n",
       "    </tr>\n",
       "  </thead>\n",
       "  <tbody>\n",
       "    <tr>\n",
       "      <th>count</th>\n",
       "      <td>1391.000000</td>\n",
       "    </tr>\n",
       "    <tr>\n",
       "      <th>mean</th>\n",
       "      <td>28.756290</td>\n",
       "    </tr>\n",
       "    <tr>\n",
       "      <th>std</th>\n",
       "      <td>46.259826</td>\n",
       "    </tr>\n",
       "    <tr>\n",
       "      <th>min</th>\n",
       "      <td>1.000000</td>\n",
       "    </tr>\n",
       "    <tr>\n",
       "      <th>25%</th>\n",
       "      <td>6.000000</td>\n",
       "    </tr>\n",
       "    <tr>\n",
       "      <th>50%</th>\n",
       "      <td>14.000000</td>\n",
       "    </tr>\n",
       "    <tr>\n",
       "      <th>75%</th>\n",
       "      <td>34.000000</td>\n",
       "    </tr>\n",
       "    <tr>\n",
       "      <th>max</th>\n",
       "      <td>632.000000</td>\n",
       "    </tr>\n",
       "  </tbody>\n",
       "</table>\n",
       "</div>"
      ],
      "text/plain": [
       "            BillNo\n",
       "count  1391.000000\n",
       "mean     28.756290\n",
       "std      46.259826\n",
       "min       1.000000\n",
       "25%       6.000000\n",
       "50%      14.000000\n",
       "75%      34.000000\n",
       "max     632.000000"
      ]
     },
     "metadata": {},
     "output_type": "display_data"
    },
    {
     "name": "stdout",
     "output_type": "stream",
     "text": [
      "top 10 customer with most transaction\n"
     ]
    },
    {
     "data": {
      "text/html": [
       "<div>\n",
       "<style scoped>\n",
       "    .dataframe tbody tr th:only-of-type {\n",
       "        vertical-align: middle;\n",
       "    }\n",
       "\n",
       "    .dataframe tbody tr th {\n",
       "        vertical-align: top;\n",
       "    }\n",
       "\n",
       "    .dataframe thead th {\n",
       "        text-align: right;\n",
       "    }\n",
       "</style>\n",
       "<table border=\"1\" class=\"dataframe\">\n",
       "  <thead>\n",
       "    <tr style=\"text-align: right;\">\n",
       "      <th></th>\n",
       "      <th>BillNo</th>\n",
       "    </tr>\n",
       "    <tr>\n",
       "      <th>CustomerID</th>\n",
       "      <th></th>\n",
       "    </tr>\n",
       "  </thead>\n",
       "  <tbody>\n",
       "    <tr>\n",
       "      <th>12748</th>\n",
       "      <td>632</td>\n",
       "    </tr>\n",
       "    <tr>\n",
       "      <th>17841</th>\n",
       "      <td>614</td>\n",
       "    </tr>\n",
       "    <tr>\n",
       "      <th>14606</th>\n",
       "      <td>610</td>\n",
       "    </tr>\n",
       "    <tr>\n",
       "      <th>15311</th>\n",
       "      <td>527</td>\n",
       "    </tr>\n",
       "    <tr>\n",
       "      <th>18118</th>\n",
       "      <td>316</td>\n",
       "    </tr>\n",
       "    <tr>\n",
       "      <th>15039</th>\n",
       "      <td>315</td>\n",
       "    </tr>\n",
       "    <tr>\n",
       "      <th>17850</th>\n",
       "      <td>282</td>\n",
       "    </tr>\n",
       "    <tr>\n",
       "      <th>17337</th>\n",
       "      <td>244</td>\n",
       "    </tr>\n",
       "    <tr>\n",
       "      <th>14527</th>\n",
       "      <td>225</td>\n",
       "    </tr>\n",
       "    <tr>\n",
       "      <th>13174</th>\n",
       "      <td>221</td>\n",
       "    </tr>\n",
       "  </tbody>\n",
       "</table>\n",
       "</div>"
      ],
      "text/plain": [
       "            BillNo\n",
       "CustomerID        \n",
       "12748          632\n",
       "17841          614\n",
       "14606          610\n",
       "15311          527\n",
       "18118          316\n",
       "15039          315\n",
       "17850          282\n",
       "17337          244\n",
       "14527          225\n",
       "13174          221"
      ]
     },
     "execution_count": 10,
     "metadata": {},
     "output_type": "execute_result"
    }
   ],
   "source": [
    "user_transaction_df = df_train.groupby('CustomerID').agg({'BillNo':'count'})\n",
    "display(user_transaction_df.describe())\n",
    "\n",
    "print('top 10 customer with most transaction')\n",
    "user_transaction_df.sort_values('BillNo', ascending=False).head(10)"
   ]
  },
  {
   "cell_type": "code",
   "execution_count": 9,
   "metadata": {},
   "outputs": [
    {
     "data": {
      "image/png": "[encoded data removed]",
      "text/plain": [
       "<Figure size 640x480 with 1 Axes>"
      ]
     },
     "metadata": {},
     "output_type": "display_data"
    }
   ],
   "source": [
    "plt.hist(user_transaction_df['BillNo'], bins=100)\n",
    "plt.title('Number of Transaction per Customer ')\n",
    "plt.xlabel('Number of Transaction')\n",
    "plt.ylabel('Frequency')\n",
    "plt.show()"
   ]
  },
  {
   "cell_type": "markdown",
   "metadata": {},
   "source": [
    "# Item Analysis"
   ]
  },
  {
   "cell_type": "markdown",
   "metadata": {},
   "source": [
    "## Number of Unique Items"
   ]
  },
  {
   "cell_type": "code",
   "execution_count": 11,
   "metadata": {},
   "outputs": [
    {
     "name": "stdout",
     "output_type": "stream",
     "text": [
      "Train Data\n",
      "Num of Unique Items by Name: 2523\n",
      "\n",
      "Test Data\n",
      "Num of Unique Items by Name: 1752\n",
      "\n",
      "All Data\n",
      "Num of Unique Items by Name: 2641\n"
     ]
    }
   ],
   "source": [
    "print('Train Data')\n",
    "print(f\"Num of Unique Items by Name: {df_train.Itemname.str.lower().nunique()}\\n\")\n",
    "\n",
    "print(\"Test Data\")\n",
    "print(f\"Num of Unique Items by Name: {df_test.Itemname.str.lower().nunique()}\\n\")\n",
    "\n",
    "print(\"All Data\")\n",
    "print(f\"Num of Unique Items by Name: {pd.concat([df_train, df_test]).Itemname.str.lower().nunique()}\")"
   ]
  },
  {
   "cell_type": "code",
   "execution_count": 12,
   "metadata": {},
   "outputs": [
    {
     "name": "stdout",
     "output_type": "stream",
     "text": [
      "Number of Customer in test but not in train: 118\n"
     ]
    }
   ],
   "source": [
    "train_items = df_train.Itemname.str.lower().unique()\n",
    "test_items = df_test.Itemname.str.lower().unique()  \n",
    "\n",
    "test_not_in_train_items = len([x for x in test_items if x not in train_items])\n",
    "print(f\"Number of Customer in test but not in train: {test_not_in_train_items}\")"
   ]
  },
  {
   "cell_type": "code",
   "execution_count": 13,
   "metadata": {},
   "outputs": [],
   "source": [
    "import re\n",
    "\n",
    "def remove_color(string):\n",
    "    \"\"\"\n",
    "    This function is used to remove the color word and clean the item name\n",
    "    \"\"\"\n",
    "    # remove color from the item\n",
    "    string = re.sub(r'\\b(white|red|blue|green|yellow|black|orange|purple|pink)\\b', '', string.lower())\n",
    "    \n",
    "    # remove special characters\n",
    "    string = re.sub(r'[^a-zA-Z0-9\\s]', '', string)\n",
    "    \n",
    "    # remove extra spaces\n",
    "    string = re.sub('\\s+', ' ', string)\n",
    "    \n",
    "    return string.upper().strip()\n",
    "\n",
    "df_train['Itemname'] = df_train['Itemname'].apply(remove_color)\n",
    "df_test['Itemname'] = df_test['Itemname'].apply(remove_color)"
   ]
  },
  {
   "cell_type": "code",
   "execution_count": 14,
   "metadata": {},
   "outputs": [
    {
     "name": "stdout",
     "output_type": "stream",
     "text": [
      "After Cleaning\n",
      "Train Data\n",
      "Num of Unique Items by Name: 2337\n",
      "\n",
      "Test Data\n",
      "Num of Unique Items by Name: 1638\n",
      "\n",
      "All Data\n",
      "Num of Unique Items by Name: 2444\n"
     ]
    }
   ],
   "source": [
    "print('After Cleaning')\n",
    "print('Train Data')\n",
    "print(f\"Num of Unique Items by Name: {df_train.Itemname.str.lower().nunique()}\\n\")\n",
    "\n",
    "print(\"Test Data\")\n",
    "print(f\"Num of Unique Items by Name: {df_test.Itemname.str.lower().nunique()}\\n\")\n",
    "\n",
    "print(\"All Data\")\n",
    "print(f\"Num of Unique Items by Name: {pd.concat([df_train, df_test]).Itemname.str.lower().nunique()}\")"
   ]
  },
  {
   "cell_type": "code",
   "execution_count": 15,
   "metadata": {},
   "outputs": [
    {
     "name": "stdout",
     "output_type": "stream",
     "text": [
      "Number of items in test but not in train: 107\n"
     ]
    }
   ],
   "source": [
    "train_items = df_train.Itemname.str.lower().unique()\n",
    "test_items = df_test.Itemname.str.lower().unique()  \n",
    "\n",
    "test_not_in_train_items = len([x for x in test_items if x not in train_items])\n",
    "print(f\"Number of items in test but not in train: {test_not_in_train_items}\")"
   ]
  },
  {
   "cell_type": "markdown",
   "metadata": {},
   "source": [
    "## Most Bought Items\n",
    "\n",
    "These item set will be use as a recommendation for the new user"
   ]
  },
  {
   "cell_type": "code",
   "execution_count": 29,
   "metadata": {},
   "outputs": [
    {
     "name": "stdout",
     "output_type": "stream",
     "text": [
      "Number of Items: 2,337\n"
     ]
    },
    {
     "data": {
      "text/html": [
       "<div>\n",
       "<style scoped>\n",
       "    .dataframe tbody tr th:only-of-type {\n",
       "        vertical-align: middle;\n",
       "    }\n",
       "\n",
       "    .dataframe tbody tr th {\n",
       "        vertical-align: top;\n",
       "    }\n",
       "\n",
       "    .dataframe thead th {\n",
       "        text-align: right;\n",
       "    }\n",
       "</style>\n",
       "<table border=\"1\" class=\"dataframe\">\n",
       "  <thead>\n",
       "    <tr style=\"text-align: right;\">\n",
       "      <th></th>\n",
       "      <th>Itemname</th>\n",
       "      <th>BillNo</th>\n",
       "    </tr>\n",
       "  </thead>\n",
       "  <tbody>\n",
       "    <tr>\n",
       "      <th>0</th>\n",
       "      <td>ALARM CLOCK BAKELIKE</td>\n",
       "      <td>443</td>\n",
       "    </tr>\n",
       "    <tr>\n",
       "      <th>1</th>\n",
       "      <td>HANGING HEART TLIGHT HOLDER</td>\n",
       "      <td>440</td>\n",
       "    </tr>\n",
       "    <tr>\n",
       "      <th>2</th>\n",
       "      <td>SET OF 3 CAKE TINS PANTRY DESIGN</td>\n",
       "      <td>230</td>\n",
       "    </tr>\n",
       "    <tr>\n",
       "      <th>3</th>\n",
       "      <td>REGENCY CAKESTAND 3 TIER</td>\n",
       "      <td>225</td>\n",
       "    </tr>\n",
       "    <tr>\n",
       "      <th>4</th>\n",
       "      <td>3 PIECE POLKADOT CUTLERY SET</td>\n",
       "      <td>210</td>\n",
       "    </tr>\n",
       "    <tr>\n",
       "      <th>5</th>\n",
       "      <td>HEART OF WICKER LARGE</td>\n",
       "      <td>195</td>\n",
       "    </tr>\n",
       "    <tr>\n",
       "      <th>6</th>\n",
       "      <td>REX CASHCARRY JUMBO SHOPPER</td>\n",
       "      <td>192</td>\n",
       "    </tr>\n",
       "    <tr>\n",
       "      <th>7</th>\n",
       "      <td>RETROSPOT HEART HOT WATER BOTTLE</td>\n",
       "      <td>163</td>\n",
       "    </tr>\n",
       "    <tr>\n",
       "      <th>8</th>\n",
       "      <td>HOME BUILDING BLOCK WORD</td>\n",
       "      <td>158</td>\n",
       "    </tr>\n",
       "    <tr>\n",
       "      <th>9</th>\n",
       "      <td>NATURAL SLATE HEART CHALKBOARD</td>\n",
       "      <td>157</td>\n",
       "    </tr>\n",
       "    <tr>\n",
       "      <th>10</th>\n",
       "      <td>HEART OF WICKER SMALL</td>\n",
       "      <td>157</td>\n",
       "    </tr>\n",
       "    <tr>\n",
       "      <th>11</th>\n",
       "      <td>KITCHEN SCALES</td>\n",
       "      <td>151</td>\n",
       "    </tr>\n",
       "    <tr>\n",
       "      <th>12</th>\n",
       "      <td>SCOTTIE DOG HOT WATER BOTTLE</td>\n",
       "      <td>150</td>\n",
       "    </tr>\n",
       "    <tr>\n",
       "      <th>13</th>\n",
       "      <td>JAM MAKING SET WITH JARS</td>\n",
       "      <td>148</td>\n",
       "    </tr>\n",
       "    <tr>\n",
       "      <th>14</th>\n",
       "      <td>GREY HEART HOT WATER BOTTLE</td>\n",
       "      <td>148</td>\n",
       "    </tr>\n",
       "    <tr>\n",
       "      <th>15</th>\n",
       "      <td>LOVE BUILDING BLOCK WORD</td>\n",
       "      <td>146</td>\n",
       "    </tr>\n",
       "    <tr>\n",
       "      <th>16</th>\n",
       "      <td>SET OF 6 SPICE TINS PANTRY DESIGN</td>\n",
       "      <td>142</td>\n",
       "    </tr>\n",
       "    <tr>\n",
       "      <th>17</th>\n",
       "      <td>LUNCH BAG RETROSPOT</td>\n",
       "      <td>141</td>\n",
       "    </tr>\n",
       "    <tr>\n",
       "      <th>18</th>\n",
       "      <td>JUMBO BAG RETROSPOT</td>\n",
       "      <td>139</td>\n",
       "    </tr>\n",
       "    <tr>\n",
       "      <th>19</th>\n",
       "      <td>CHOCOLATE HOT WATER BOTTLE</td>\n",
       "      <td>130</td>\n",
       "    </tr>\n",
       "  </tbody>\n",
       "</table>\n",
       "</div>"
      ],
      "text/plain": [
       "                             Itemname  BillNo\n",
       "0                ALARM CLOCK BAKELIKE     443\n",
       "1         HANGING HEART TLIGHT HOLDER     440\n",
       "2    SET OF 3 CAKE TINS PANTRY DESIGN     230\n",
       "3            REGENCY CAKESTAND 3 TIER     225\n",
       "4        3 PIECE POLKADOT CUTLERY SET     210\n",
       "5               HEART OF WICKER LARGE     195\n",
       "6         REX CASHCARRY JUMBO SHOPPER     192\n",
       "7    RETROSPOT HEART HOT WATER BOTTLE     163\n",
       "8            HOME BUILDING BLOCK WORD     158\n",
       "9      NATURAL SLATE HEART CHALKBOARD     157\n",
       "10              HEART OF WICKER SMALL     157\n",
       "11                     KITCHEN SCALES     151\n",
       "12       SCOTTIE DOG HOT WATER BOTTLE     150\n",
       "13           JAM MAKING SET WITH JARS     148\n",
       "14        GREY HEART HOT WATER BOTTLE     148\n",
       "15           LOVE BUILDING BLOCK WORD     146\n",
       "16  SET OF 6 SPICE TINS PANTRY DESIGN     142\n",
       "17                LUNCH BAG RETROSPOT     141\n",
       "18                JUMBO BAG RETROSPOT     139\n",
       "19         CHOCOLATE HOT WATER BOTTLE     130"
      ]
     },
     "metadata": {},
     "output_type": "display_data"
    }
   ],
   "source": [
    "item_dist_df = df_train.groupby('Itemname').agg({'BillNo':'count'}).sort_values('BillNo', ascending= False)\n",
    "top_20_popular_items = item_dist_df.reset_index()[['Itemname']].head(20)\n",
    "print(f'Number of Items: {item_dist_df.shape[0]:,.0f}')\n",
    "display(item_dist_df.head(20).reset_index())\n",
    "# display(item_dist_df.describe())"
   ]
  },
  {
   "cell_type": "markdown",
   "metadata": {},
   "source": [
    "## Time Between User Buy the Same Item\n",
    "We want to know how long the user buys the same item."
   ]
  },
  {
   "cell_type": "code",
   "execution_count": 16,
   "metadata": {},
   "outputs": [],
   "source": [
    "item_cust_df = df_train.groupby(['CustomerID','Itemname']).agg({'BillNo':'count'}).reset_index()\n",
    "item_more_than_2_cust_df = item_cust_df.loc[item_cust_df.BillNo > 1]\n",
    "\n",
    "item_more_than_2_user_dict = {}\n",
    "unique_user = item_more_than_2_cust_df.CustomerID.unique()\n",
    "\n",
    "for cust in unique_user:\n",
    "    item_more_than_2_user_dict[cust] = item_more_than_2_cust_df.loc[item_more_than_2_cust_df.CustomerID == cust]['Itemname'].unique()"
   ]
  },
  {
   "cell_type": "code",
   "execution_count": 17,
   "metadata": {},
   "outputs": [],
   "source": [
    "df_train['time_delta'] = 0"
   ]
  },
  {
   "cell_type": "code",
   "execution_count": 18,
   "metadata": {},
   "outputs": [],
   "source": [
    "for key, value in item_more_than_2_user_dict.items():\n",
    "    for item in value:\n",
    "        dummy = df_train.loc[(df_train['CustomerID'] == key) & (df_train['Itemname'] == item)].sort_values('Date', ascending=True).copy()\n",
    "        dummy['time_delta'] = dummy['Date'].diff().dt.days\n",
    "        dummy.fillna(0, inplace=True)\n",
    "        df_train.loc[(df_train['CustomerID'] == key) & (df_train['Itemname'] == item), 'time_delta'] = dummy['time_delta']"
   ]
  },
  {
   "cell_type": "code",
   "execution_count": 19,
   "metadata": {},
   "outputs": [
    {
     "data": {
      "text/plain": [
       "count    3783.000000\n",
       "mean       25.080360\n",
       "std        18.829579\n",
       "min         1.000000\n",
       "25%         8.000000\n",
       "50%        20.000000\n",
       "75%        37.000000\n",
       "max        77.000000\n",
       "Name: time_delta, dtype: float64"
      ]
     },
     "execution_count": 19,
     "metadata": {},
     "output_type": "execute_result"
    }
   ],
   "source": [
    "df_train.loc[df_train.time_delta > 0]['time_delta'].describe()"
   ]
  },
  {
   "cell_type": "code",
   "execution_count": 21,
   "metadata": {},
   "outputs": [
    {
     "data": {
      "image/png": "[encoded data removed]",
      "text/plain": [
       "<Figure size 640x480 with 1 Axes>"
      ]
     },
     "metadata": {},
     "output_type": "display_data"
    }
   ],
   "source": [
    "plt.hist(df_train.loc[df_train.time_delta > 0]['time_delta'], bins=20)\n",
    "plt.axvline(x=7, color='red', linestyle='dashed', label='7 days')\n",
    "plt.axvline(x=20, color='red', linestyle='-.', label='20 days')\n",
    "plt.title('Histogram of Time Delta between Same Item Purchase from Same Customer')\n",
    "plt.xlabel('Time Delta')\n",
    "plt.ylabel('Frequency')\n",
    "plt.legend()\n",
    "plt.show()\n"
   ]
  },
  {
   "cell_type": "markdown",
   "metadata": {},
   "source": [
    "From this analysis we could know how often the user buys the same item, which is 7 days. Therefore, we could recommend the same item to the user after 7 days."
   ]
  },
  {
   "cell_type": "markdown",
   "metadata": {},
   "source": [
    "# Preprocessing\n",
    "In the dataset there are no explicit rating, therefore we have to use implicit rating. Implicit ratings are the ratings that are inferred from the user's behavior (Hu, Koren and Volinsky, 2008, p. 264), for example, the number of clicks, the number of items bought, or the time spent on the item's page. For this dataset, the count of Bill Number that a user buys, the sum of quantity and price variable will be used as the implicit rating."
   ]
  },
  {
   "cell_type": "code",
   "execution_count": 25,
   "metadata": {},
   "outputs": [
    {
     "name": "stdout",
     "output_type": "stream",
     "text": [
      "Data Validation Shape: (8000, 8)\n",
      "Data Train Shape: (32000, 8)\n"
     ]
    }
   ],
   "source": [
    "# create validation dataset\n",
    "df_train.sort_values('Date', inplace=True)\n",
    "\n",
    "# 20% of the data will be used for validation\n",
    "number_of_val = int(df_train.shape[0] * 0.2)\n",
    "\n",
    "# split the data based on the date\n",
    "data_val = df_train.iloc[-number_of_val:]\n",
    "data_train = df_train.iloc[:-number_of_val]\n",
    "\n",
    "print(f\"Data Validation Shape: {data_val.shape}\")\n",
    "print(f\"Data Train Shape: {data_train.shape}\")"
   ]
  },
  {
   "cell_type": "code",
   "execution_count": 26,
   "metadata": {},
   "outputs": [
    {
     "name": "stdout",
     "output_type": "stream",
     "text": [
      "Test Data Shape with New Customer Removed: (5282, 7)\n",
      "Number of Unique Customer in Test Data with New Customer Removed: 250\n",
      "\n",
      "Test Data Shape for New Customer Only: (4718, 7)\n",
      "Number of Unique Customer in Test Data for New Customer Only: 269\n"
     ]
    }
   ],
   "source": [
    "# remove new customer on test data\n",
    "data_test_new_cust = df_test.loc[~df_test.CustomerID.isin(df_train.CustomerID)]\n",
    "data_test = df_test.loc[df_test.CustomerID.isin(df_train.CustomerID)]\n",
    "\n",
    "print(f\"Test Data Shape with New Customer Removed: {data_test.shape}\")\n",
    "print(f\"Number of Unique Customer in Test Data with New Customer Removed: {data_test.CustomerID.nunique()}\\n\")\n",
    "print(f\"Test Data Shape for New Customer Only: {data_test_new_cust.shape}\")\n",
    "print(f\"Number of Unique Customer in Test Data for New Customer Only: {data_test_new_cust.CustomerID.nunique()}\")"
   ]
  },
  {
   "cell_type": "code",
   "execution_count": 33,
   "metadata": {},
   "outputs": [],
   "source": [
    "def create_user_item_matrix(dataframe, b_weight=0.4, q_weight=0.4, p_weight=0.2):\n",
    "    \"\"\"\n",
    "    This function will create the user item matrix and return the sparse matrix, group data, customer ids and item ids\n",
    "    \"\"\"\n",
    "    # group the data by CustomerID and Itemname\n",
    "    group_data = dataframe.groupby(['CustomerID', 'Itemname']).agg({'BillNo':'count','Quantity':'sum','Price':'median'}).reset_index()\n",
    "    group_data['joined_column'] = (b_weight * group_data['BillNo']) + (q_weight* group_data['Quantity']) + (p_weight * 1/group_data['Price'])\n",
    "\n",
    "    # creating customer index\n",
    "    unique_customers = group_data.CustomerID.unique()\n",
    "    customer_ids = dict(zip(unique_customers, np.arange(unique_customers.shape[0], dtype=np.int32)))\n",
    "\n",
    "    # creating item index\n",
    "    unique_items = group_data.Itemname.unique()\n",
    "    item_ids = dict(zip(unique_items, np.arange(unique_items.shape[0], dtype=np.int32)))\n",
    "\n",
    "    # add custimer_id and item_id to the dataframe so that it is an integer from 0 to n-1\n",
    "    group_data['customer_id'] = group_data.CustomerID.apply(lambda i: customer_ids[i])\n",
    "    group_data['item_id'] = group_data.Itemname.apply(lambda i: item_ids[i])\n",
    "    \n",
    "    # create the sparse matrix\n",
    "    sparse_customer_item = sparse.csr_matrix((group_data['joined_column'].astype(float), (group_data['customer_id'], group_data['item_id'])))\n",
    "    \n",
    "    # normalize the matrix\n",
    "    row_means = np.array(sparse_customer_item.mean(axis=1)).flatten()\n",
    "    sparse_customer_item.data -= np.repeat(row_means, np.diff(sparse_customer_item.indptr))\n",
    "\n",
    "    return sparse_customer_item, group_data, customer_ids, item_ids\n",
    "\n",
    "\n"
   ]
  },
  {
   "cell_type": "markdown",
   "metadata": {},
   "source": [
    "# Model Comparison\n",
    "\n",
    "In this step, we will try different implicit rating calculation and compare the result. There are 3 main variables that will be used as the implicit rating calculation, which are: Count of the Bill Number, Sum of the Quantity and the Price Inverse. Firstly, we will calculate the implicit rating for Bill Number, Quantity and the combination of both variable. Alternating Least Squares (ALS) will be used as the model to predict the rating. Then, we will compare the result of the model in the validation data. To compare the result, we will use the Mean Average Precision and NDCG metrics. \n",
    "\n",
    "The MAP is the average of the precision at k, where k is the number of items that are recommended to the user. On the other hand, Normalized Discounted Cumulative Gain (NDCG) is a metric used to evaluate the quality of a ranking system. It measures the performance of a recommendation system based on the position of the relevant items (www.shaped.ai, n.d.)\n"
   ]
  },
  {
   "cell_type": "code",
   "execution_count": 36,
   "metadata": {},
   "outputs": [],
   "source": [
    "# create empty lists\n",
    "model_list = []\n",
    "map_list = []\n",
    "ndcg_list = []\n",
    "time_list = []\n",
    "\n",
    "# create weights list to be experimented\n",
    "b_var = [1, 0, 0.4]\n",
    "q_var = [0, 1, 0.4]\n",
    "p_var = [0, 0, 0.2]\n",
    "\n",
    "# number of items to recommend\n",
    "K = 20"
   ]
  },
  {
   "cell_type": "markdown",
   "metadata": {},
   "source": [
    "## Implicit Rating Using Count of Bill Number"
   ]
  },
  {
   "cell_type": "code",
   "execution_count": 82,
   "metadata": {},
   "outputs": [],
   "source": [
    "sparse_customer_item_train, grouped_data_train, customer_ids, item_ids =create_user_item_matrix(data_train, b_var[0], q_var[0], p_var[0])\n",
    "sparse_customer_item_val, grouped_data_val, _, _ =create_user_item_matrix(data_val, b_var[0], q_var[0], p_var[0])"
   ]
  },
  {
   "cell_type": "code",
   "execution_count": 83,
   "metadata": {},
   "outputs": [
    {
     "name": "stderr",
     "output_type": "stream",
     "text": [
      "100%|██████████| 100/100 [01:00<00:00,  1.64it/s]\n"
     ]
    }
   ],
   "source": [
    "start_time = time.time()\n",
    "model = implicit.als.AlternatingLeastSquares(factors=100, regularization=0.01, iterations=100, random_state=3)\n",
    "\n",
    "model.fit(sparse_customer_item_train)\n",
    "end_time = time.time()\n",
    "elapsed_time = end_time - start_time\n",
    "\n",
    "map = mean_average_precision_at_k(model, sparse_customer_item_train, sparse_customer_item_val, K=K, show_progress=False)\n",
    "ndcg = ndcg_at_k(model, sparse_customer_item_train, sparse_customer_item_val, K=K, show_progress=False)\n",
    "\n",
    "model_list.append('Bill No: 1, Quantity: 0, Price: 0')\n",
    "map_list.append(map)\n",
    "ndcg_list.append(ndcg)\n",
    "time_list.append(elapsed_time)"
   ]
  },
  {
   "cell_type": "markdown",
   "metadata": {},
   "source": [
    "## Implicit Rating Using Sum of Quantity"
   ]
  },
  {
   "cell_type": "code",
   "execution_count": 84,
   "metadata": {},
   "outputs": [],
   "source": [
    "sparse_customer_item_train, grouped_data_train, customer_ids, item_ids =create_user_item_matrix(data_train, b_var[1], q_var[1], p_var[1])\n",
    "sparse_customer_item_val, grouped_data_val, _, _ =create_user_item_matrix(data_val, b_var[1], q_var[1], p_var[1])\n"
   ]
  },
  {
   "cell_type": "code",
   "execution_count": 85,
   "metadata": {},
   "outputs": [
    {
     "name": "stderr",
     "output_type": "stream",
     "text": [
      "  0%|          | 0/100 [00:00<?, ?it/s]"
     ]
    },
    {
     "name": "stderr",
     "output_type": "stream",
     "text": [
      "100%|██████████| 100/100 [01:00<00:00,  1.64it/s]\n"
     ]
    }
   ],
   "source": [
    "start_time = time.time()\n",
    "model = implicit.als.AlternatingLeastSquares(factors=100, regularization=0.01, iterations=100, random_state=3)\n",
    "\n",
    "model.fit(sparse_customer_item_train)\n",
    "end_time = time.time()\n",
    "elapsed_time = end_time - start_time\n",
    "\n",
    "map = mean_average_precision_at_k(model, sparse_customer_item_train, sparse_customer_item_val, K=K, show_progress=False)\n",
    "ndcg = ndcg_at_k(model, sparse_customer_item_train, sparse_customer_item_val, K=K, show_progress=False)\n",
    "\n",
    "model_list.append('Bill No: 0, Quantity: 1, Price: 0')\n",
    "map_list.append(map)\n",
    "ndcg_list.append(ndcg)\n",
    "time_list.append(elapsed_time)"
   ]
  },
  {
   "cell_type": "markdown",
   "metadata": {},
   "source": [
    "## Implicit Rating Using Combination of the Variables"
   ]
  },
  {
   "cell_type": "code",
   "execution_count": 86,
   "metadata": {},
   "outputs": [],
   "source": [
    "sparse_customer_item_train, grouped_data_train, customer_ids, item_ids =create_user_item_matrix(data_train, b_var[2], q_var[2], p_var[2])\n",
    "sparse_customer_item_val, grouped_data_val, _, _ =create_user_item_matrix(data_val, b_var[2], q_var[2], p_var[2])\n"
   ]
  },
  {
   "cell_type": "code",
   "execution_count": 87,
   "metadata": {},
   "outputs": [
    {
     "name": "stderr",
     "output_type": "stream",
     "text": [
      "  0%|          | 0/100 [00:00<?, ?it/s]"
     ]
    },
    {
     "name": "stderr",
     "output_type": "stream",
     "text": [
      "100%|██████████| 100/100 [01:00<00:00,  1.66it/s]\n"
     ]
    }
   ],
   "source": [
    "start_time = time.time()\n",
    "model = implicit.als.AlternatingLeastSquares(factors=100, regularization=0.01, iterations=100, random_state=3)\n",
    "\n",
    "model.fit(sparse_customer_item_train)\n",
    "end_time = time.time()\n",
    "elapsed_time = end_time - start_time\n",
    "\n",
    "map = mean_average_precision_at_k(model, sparse_customer_item_train, sparse_customer_item_val, K=K, show_progress=False)\n",
    "ndcg = ndcg_at_k(model, sparse_customer_item_train, sparse_customer_item_val, K=K, show_progress=False)\n",
    "\n",
    "model_list.append('Bill No: 0.4, Quantity: 0.4, Price: 0.2')\n",
    "map_list.append(map)\n",
    "ndcg_list.append(ndcg)\n",
    "time_list.append(elapsed_time)"
   ]
  },
  {
   "cell_type": "markdown",
   "metadata": {},
   "source": [
    "## Comparison"
   ]
  },
  {
   "cell_type": "code",
   "execution_count": 88,
   "metadata": {},
   "outputs": [
    {
     "data": {
      "text/html": [
       "<div>\n",
       "<style scoped>\n",
       "    .dataframe tbody tr th:only-of-type {\n",
       "        vertical-align: middle;\n",
       "    }\n",
       "\n",
       "    .dataframe tbody tr th {\n",
       "        vertical-align: top;\n",
       "    }\n",
       "\n",
       "    .dataframe thead th {\n",
       "        text-align: right;\n",
       "    }\n",
       "</style>\n",
       "<table border=\"1\" class=\"dataframe\">\n",
       "  <thead>\n",
       "    <tr style=\"text-align: right;\">\n",
       "      <th></th>\n",
       "      <th>Implicit Rating Calculation</th>\n",
       "      <th>MAP</th>\n",
       "      <th>NDCG</th>\n",
       "    </tr>\n",
       "  </thead>\n",
       "  <tbody>\n",
       "    <tr>\n",
       "      <th>1</th>\n",
       "      <td>Bill No: 0, Quantity: 1, Price: 0</td>\n",
       "      <td>0.006486</td>\n",
       "      <td>0.025789</td>\n",
       "    </tr>\n",
       "    <tr>\n",
       "      <th>0</th>\n",
       "      <td>Bill No: 1, Quantity: 0, Price: 0</td>\n",
       "      <td>0.006429</td>\n",
       "      <td>0.025649</td>\n",
       "    </tr>\n",
       "    <tr>\n",
       "      <th>2</th>\n",
       "      <td>Bill No: 0.4, Quantity: 0.4, Price: 0.2</td>\n",
       "      <td>0.006370</td>\n",
       "      <td>0.025120</td>\n",
       "    </tr>\n",
       "  </tbody>\n",
       "</table>\n",
       "</div>"
      ],
      "text/plain": [
       "               Implicit Rating Calculation       MAP      NDCG\n",
       "1        Bill No: 0, Quantity: 1, Price: 0  0.006486  0.025789\n",
       "0        Bill No: 1, Quantity: 0, Price: 0  0.006429  0.025649\n",
       "2  Bill No: 0.4, Quantity: 0.4, Price: 0.2  0.006370  0.025120"
      ]
     },
     "execution_count": 88,
     "metadata": {},
     "output_type": "execute_result"
    }
   ],
   "source": [
    "model_evaluation_df = pd.DataFrame({'Implicit Rating Calculation':model_list, 'MAP':map_list, 'NDCG':ndcg_list})\n",
    "model_evaluation_df.sort_values(['MAP','NDCG'], ascending=False, inplace=True)\n",
    "model_evaluation_df"
   ]
  },
  {
   "cell_type": "markdown",
   "metadata": {},
   "source": [
    "Only using sum of Quantity as the implicit rating calculation, the model has the best performance. Therefore, we will use this variable as the implicit rating calculation."
   ]
  },
  {
   "cell_type": "markdown",
   "metadata": {},
   "source": [
    "## Hyperparameter Tunning\n",
    "In this step, we will find the best hyperparameter for the model. The hyperparameter that will be tuned are the factor and the regularization parameter. The factor is the number of latent factors in the model, while the regularization parameter is the parameter that is used to prevent overfitting. We will use the validation data to evaluate the model."
   ]
  },
  {
   "cell_type": "code",
   "execution_count": 34,
   "metadata": {},
   "outputs": [],
   "source": [
    "sparse_customer_item_train, grouped_data_train, customer_ids, item_ids =create_user_item_matrix(data_train,b_weight=0, q_weight=1, p_weight=0)\n",
    "sparse_customer_item_val, grouped_data_val, _, _ =create_user_item_matrix(data_val,b_weight=0, q_weight=1, p_weight=0)\n"
   ]
  },
  {
   "cell_type": "code",
   "execution_count": 37,
   "metadata": {},
   "outputs": [
    {
     "name": "stderr",
     "output_type": "stream",
     "text": [
      "100%|██████████| 12/12 [06:06<00:00, 30.56s/it]"
     ]
    },
    {
     "name": "stdout",
     "output_type": "stream",
     "text": [
      "Best hyperparameters: (128, 0.1)\n",
      "Best map: 0.0069409274239673555\n"
     ]
    },
    {
     "name": "stderr",
     "output_type": "stream",
     "text": [
      "\n"
     ]
    }
   ],
   "source": [
    "# ChatGPT prompt: help me to create GridSearch for AlternatingLeastSquares model\n",
    "\n",
    "# Define hyperparameters and their possible values\n",
    "param_grid = {\n",
    "    'factor': [12,64,128],\n",
    "    'regularization': [0.01, 0.1, 0.5,1]\n",
    "}\n",
    "\n",
    "# Create a list to store the combinations of hyperparameters\n",
    "param_combinations = []\n",
    "\n",
    "# Get all combinations of hyperparameters\n",
    "param_combinations = list(itertools.product(*param_grid.values()))\n",
    "results = []\n",
    "# Iterate over each combination of hyperparameters\n",
    "for params in tqdm(param_combinations):\n",
    "    # Set the hyperparameters to the current combination\n",
    "    factor = params[0]\n",
    "    regularization = params[1]\n",
    "\n",
    "    # Train and evaluate your model using the current hyperparameters\n",
    "    model = implicit.als.AlternatingLeastSquares(factors=factor, regularization=regularization, iterations=100, random_state=3)\n",
    "\n",
    "    model.fit(sparse_customer_item_train, show_progress=False)\n",
    "    \n",
    "    # model = YourModel(learning_rate=learning_rate, max_depth=max_depth, n_estimators=n_estimators)\n",
    "    map = mean_average_precision_at_k(model, sparse_customer_item_train, sparse_customer_item_val, K=K, show_progress=False)\n",
    "    ndcg = ndcg_at_k(model, sparse_customer_item_train, sparse_customer_item_val, K=K, show_progress=False)\n",
    "\n",
    "    # Store the evaluation metric or any other relevant information\n",
    "    results.append({\n",
    "        'params': params,\n",
    "        'map': map,\n",
    "        'ndcg': ndcg\n",
    "    })\n",
    "\n",
    "# Analyze the results and choose the best set of hyperparameters\n",
    "best_params = max(results, key=lambda x: x['map'])['params']\n",
    "best_map = max(results, key=lambda x: x['map'])['map']\n",
    "print(\"Best hyperparameters:\", best_params)\n",
    "print(\"Best map:\", best_map)\n",
    "# end of ChatGPT code------------------------------------------------------------------------\n"
   ]
  },
  {
   "cell_type": "code",
   "execution_count": 38,
   "metadata": {},
   "outputs": [
    {
     "data": {
      "text/html": [
       "<div>\n",
       "<style scoped>\n",
       "    .dataframe tbody tr th:only-of-type {\n",
       "        vertical-align: middle;\n",
       "    }\n",
       "\n",
       "    .dataframe tbody tr th {\n",
       "        vertical-align: top;\n",
       "    }\n",
       "\n",
       "    .dataframe thead th {\n",
       "        text-align: right;\n",
       "    }\n",
       "</style>\n",
       "<table border=\"1\" class=\"dataframe\">\n",
       "  <thead>\n",
       "    <tr style=\"text-align: right;\">\n",
       "      <th></th>\n",
       "      <th>params</th>\n",
       "      <th>map</th>\n",
       "      <th>ndcg</th>\n",
       "    </tr>\n",
       "  </thead>\n",
       "  <tbody>\n",
       "    <tr>\n",
       "      <th>9</th>\n",
       "      <td>(128, 0.1)</td>\n",
       "      <td>0.006941</td>\n",
       "      <td>0.025910</td>\n",
       "    </tr>\n",
       "    <tr>\n",
       "      <th>10</th>\n",
       "      <td>(128, 0.5)</td>\n",
       "      <td>0.006936</td>\n",
       "      <td>0.025896</td>\n",
       "    </tr>\n",
       "    <tr>\n",
       "      <th>8</th>\n",
       "      <td>(128, 0.01)</td>\n",
       "      <td>0.006885</td>\n",
       "      <td>0.025945</td>\n",
       "    </tr>\n",
       "    <tr>\n",
       "      <th>11</th>\n",
       "      <td>(128, 1)</td>\n",
       "      <td>0.006827</td>\n",
       "      <td>0.026069</td>\n",
       "    </tr>\n",
       "    <tr>\n",
       "      <th>1</th>\n",
       "      <td>(12, 0.1)</td>\n",
       "      <td>0.006688</td>\n",
       "      <td>0.025319</td>\n",
       "    </tr>\n",
       "    <tr>\n",
       "      <th>0</th>\n",
       "      <td>(12, 0.01)</td>\n",
       "      <td>0.006684</td>\n",
       "      <td>0.025965</td>\n",
       "    </tr>\n",
       "    <tr>\n",
       "      <th>2</th>\n",
       "      <td>(12, 0.5)</td>\n",
       "      <td>0.006668</td>\n",
       "      <td>0.026032</td>\n",
       "    </tr>\n",
       "    <tr>\n",
       "      <th>3</th>\n",
       "      <td>(12, 1)</td>\n",
       "      <td>0.006636</td>\n",
       "      <td>0.026325</td>\n",
       "    </tr>\n",
       "    <tr>\n",
       "      <th>6</th>\n",
       "      <td>(64, 0.5)</td>\n",
       "      <td>0.005986</td>\n",
       "      <td>0.022789</td>\n",
       "    </tr>\n",
       "    <tr>\n",
       "      <th>7</th>\n",
       "      <td>(64, 1)</td>\n",
       "      <td>0.005871</td>\n",
       "      <td>0.022482</td>\n",
       "    </tr>\n",
       "    <tr>\n",
       "      <th>5</th>\n",
       "      <td>(64, 0.1)</td>\n",
       "      <td>0.005816</td>\n",
       "      <td>0.022715</td>\n",
       "    </tr>\n",
       "    <tr>\n",
       "      <th>4</th>\n",
       "      <td>(64, 0.01)</td>\n",
       "      <td>0.005510</td>\n",
       "      <td>0.021627</td>\n",
       "    </tr>\n",
       "  </tbody>\n",
       "</table>\n",
       "</div>"
      ],
      "text/plain": [
       "         params       map      ndcg\n",
       "9    (128, 0.1)  0.006941  0.025910\n",
       "10   (128, 0.5)  0.006936  0.025896\n",
       "8   (128, 0.01)  0.006885  0.025945\n",
       "11     (128, 1)  0.006827  0.026069\n",
       "1     (12, 0.1)  0.006688  0.025319\n",
       "0    (12, 0.01)  0.006684  0.025965\n",
       "2     (12, 0.5)  0.006668  0.026032\n",
       "3       (12, 1)  0.006636  0.026325\n",
       "6     (64, 0.5)  0.005986  0.022789\n",
       "7       (64, 1)  0.005871  0.022482\n",
       "5     (64, 0.1)  0.005816  0.022715\n",
       "4    (64, 0.01)  0.005510  0.021627"
      ]
     },
     "execution_count": 38,
     "metadata": {},
     "output_type": "execute_result"
    }
   ],
   "source": [
    "hp_result = pd.DataFrame(results)\n",
    "hp_result.sort_values('map', ascending=False, inplace=True)\n",
    "hp_result\n"
   ]
  },
  {
   "cell_type": "code",
   "execution_count": 53,
   "metadata": {},
   "outputs": [],
   "source": [
    "hp_result['map'] = hp_result['map'].apply(lambda x: round(x, 5))\n",
    "hp_result['ndcg'] = hp_result['ndcg'].apply(lambda x: round(x, 5))\n",
    "\n",
    "hp_result.to_csv('hp_result.csv', index=False)"
   ]
  },
  {
   "cell_type": "markdown",
   "metadata": {},
   "source": [
    "# Recommendation for Testing Data\n",
    "In this step, we will use all of the training data"
   ]
  },
  {
   "cell_type": "code",
   "execution_count": 48,
   "metadata": {},
   "outputs": [],
   "source": [
    "sparse_customer_item_train, grouped_df_train, customer_ids, item_ids =create_user_item_matrix(df_train, b_weight=0, q_weight=1, p_weight=0)\n",
    "sparse_customer_item_test, grouped_df_test, _, _ =create_user_item_matrix(data_test,b_weight=0, q_weight=1, p_weight=0)"
   ]
  },
  {
   "cell_type": "code",
   "execution_count": 49,
   "metadata": {},
   "outputs": [
    {
     "name": "stderr",
     "output_type": "stream",
     "text": [
      "100%|██████████| 100/100 [01:13<00:00,  1.36it/s]\n"
     ]
    }
   ],
   "source": [
    "start_time = time.time()\n",
    "model = implicit.als.AlternatingLeastSquares(factors=128, regularization=0.1, iterations=100, random_state=3)\n",
    "\n",
    "model.fit(sparse_customer_item_train)\n",
    "end_time = time.time()\n",
    "elapsed_time = end_time - start_time\n",
    "\n",
    "map = mean_average_precision_at_k(model, sparse_customer_item_train, sparse_customer_item_test, K=K, show_progress=False)\n",
    "ndcg = ndcg_at_k(model, sparse_customer_item_train, sparse_customer_item_test, K=K, show_progress=False)"
   ]
  },
  {
   "cell_type": "code",
   "execution_count": 50,
   "metadata": {},
   "outputs": [
    {
     "name": "stdout",
     "output_type": "stream",
     "text": [
      "Test MAP: 0.00542943824497451 | Test NDCG: 0.022519515366522646\n"
     ]
    }
   ],
   "source": [
    "print(f\"Test MAP: {map} | Test NDCG: {ndcg}\")"
   ]
  },
  {
   "cell_type": "markdown",
   "metadata": {},
   "source": [
    "# Item recommendation for user in Test Data"
   ]
  },
  {
   "cell_type": "code",
   "execution_count": 42,
   "metadata": {},
   "outputs": [],
   "source": [
    "# get the list of new customer\n",
    "list_new_cust = data_test_new_cust.CustomerID.unique()\n",
    "\n",
    "# get the dataframe of 20 most popular items\n",
    "top_20_popular_items['score'] = np.nan\n",
    "top_20_popular_items.rename({'Itemname':'Recommended Items'}, axis=1, inplace=True)"
   ]
  },
  {
   "cell_type": "code",
   "execution_count": 43,
   "metadata": {},
   "outputs": [
    {
     "name": "stdout",
     "output_type": "stream",
     "text": [
      "Random customer ID from test dataset:\n",
      "['16221' '15078' '17027' '14532' '15092']\n"
     ]
    }
   ],
   "source": [
    "cust_test = df_test.CustomerID.sample(5, random_state=1).unique()\n",
    "print(f\"Random customer ID from test dataset:\\n{cust_test}\")"
   ]
  },
  {
   "cell_type": "code",
   "execution_count": 44,
   "metadata": {},
   "outputs": [],
   "source": [
    "def item_recommendation(user_id):\n",
    "    \"\"\"\n",
    "    This function is used for recommending items to a user given the user_id\n",
    "    \"\"\"\n",
    "    # get the customer purchase history\n",
    "    df_test_cust_ = df_test.loc[df_test.CustomerID == user_id]\n",
    "    \n",
    "    # if it is a new user, recommend the top 20 popular items\n",
    "    if user_id in list_new_cust:\n",
    "        recommendations_df = top_20_popular_items.copy()\n",
    "    else:\n",
    "        user = customer_ids[user_id]\n",
    "        \n",
    "        # get the recommendations\n",
    "        recommendations = model.recommend(user, sparse_customer_item_train[user], N=20, filter_already_liked_items= False)\n",
    "\n",
    "        descriptions = []\n",
    "        scores = []\n",
    "\n",
    "        for idx in recommendations[0]:\n",
    "            descriptions.append(grouped_df_train.Itemname.loc[grouped_df_train.item_id == idx].iloc[0])\n",
    "            \n",
    "        for s in recommendations[1]:\n",
    "            scores.append(s)\n",
    "        # descriptions\n",
    "        recommendations_df = pd.DataFrame({'Recommended Items': descriptions, 'score': scores})\n",
    "        \n",
    "    merged_df = pd.merge(df_test_cust_, recommendations_df, left_on='Itemname', right_on='Recommended Items', how='right')\n",
    "    merged_df = merged_df.dropna().reset_index(drop=True)[['BillNo','Date','Recommended Items','score']]\n",
    "    return merged_df"
   ]
  },
  {
   "cell_type": "code",
   "execution_count": 45,
   "metadata": {},
   "outputs": [
    {
     "name": "stdout",
     "output_type": "stream",
     "text": [
      "customer id: 16221\n",
      "Number of Bill: 1\n",
      "Number of Items actual bought: 17\n"
     ]
    },
    {
     "data": {
      "text/html": [
       "<div>\n",
       "<style scoped>\n",
       "    .dataframe tbody tr th:only-of-type {\n",
       "        vertical-align: middle;\n",
       "    }\n",
       "\n",
       "    .dataframe tbody tr th {\n",
       "        vertical-align: top;\n",
       "    }\n",
       "\n",
       "    .dataframe thead th {\n",
       "        text-align: right;\n",
       "    }\n",
       "</style>\n",
       "<table border=\"1\" class=\"dataframe\">\n",
       "  <thead>\n",
       "    <tr style=\"text-align: right;\">\n",
       "      <th></th>\n",
       "      <th>BillNo</th>\n",
       "      <th>Date</th>\n",
       "      <th>Recommended Items</th>\n",
       "      <th>score</th>\n",
       "    </tr>\n",
       "  </thead>\n",
       "  <tbody>\n",
       "    <tr>\n",
       "      <th>0</th>\n",
       "      <td>546062.0</td>\n",
       "      <td>2011-03-09 10:51:00</td>\n",
       "      <td>HANGING HEART TLIGHT HOLDER</td>\n",
       "      <td>1.017961</td>\n",
       "    </tr>\n",
       "    <tr>\n",
       "      <th>1</th>\n",
       "      <td>546062.0</td>\n",
       "      <td>2011-03-09 10:51:00</td>\n",
       "      <td>REX CASHCARRY JUMBO SHOPPER</td>\n",
       "      <td>0.726492</td>\n",
       "    </tr>\n",
       "    <tr>\n",
       "      <th>2</th>\n",
       "      <td>546062.0</td>\n",
       "      <td>2011-03-09 10:51:00</td>\n",
       "      <td>FLOWER VINE RAFFIA FOOD COVER</td>\n",
       "      <td>0.385597</td>\n",
       "    </tr>\n",
       "    <tr>\n",
       "      <th>3</th>\n",
       "      <td>546062.0</td>\n",
       "      <td>2011-03-09 10:51:00</td>\n",
       "      <td>STRAWBERRY RAFFIA FOOD COVER</td>\n",
       "      <td>0.204779</td>\n",
       "    </tr>\n",
       "  </tbody>\n",
       "</table>\n",
       "</div>"
      ],
      "text/plain": [
       "     BillNo                Date              Recommended Items     score\n",
       "0  546062.0 2011-03-09 10:51:00    HANGING HEART TLIGHT HOLDER  1.017961\n",
       "1  546062.0 2011-03-09 10:51:00    REX CASHCARRY JUMBO SHOPPER  0.726492\n",
       "2  546062.0 2011-03-09 10:51:00  FLOWER VINE RAFFIA FOOD COVER  0.385597\n",
       "3  546062.0 2011-03-09 10:51:00   STRAWBERRY RAFFIA FOOD COVER  0.204779"
      ]
     },
     "metadata": {},
     "output_type": "display_data"
    },
    {
     "name": "stdout",
     "output_type": "stream",
     "text": [
      "customer id: 15078\n",
      "Number of Bill: 2\n",
      "Number of Items actual bought: 34\n"
     ]
    },
    {
     "data": {
      "text/html": [
       "<div>\n",
       "<style scoped>\n",
       "    .dataframe tbody tr th:only-of-type {\n",
       "        vertical-align: middle;\n",
       "    }\n",
       "\n",
       "    .dataframe tbody tr th {\n",
       "        vertical-align: top;\n",
       "    }\n",
       "\n",
       "    .dataframe thead th {\n",
       "        text-align: right;\n",
       "    }\n",
       "</style>\n",
       "<table border=\"1\" class=\"dataframe\">\n",
       "  <thead>\n",
       "    <tr style=\"text-align: right;\">\n",
       "      <th></th>\n",
       "      <th>BillNo</th>\n",
       "      <th>Date</th>\n",
       "      <th>Recommended Items</th>\n",
       "      <th>score</th>\n",
       "    </tr>\n",
       "  </thead>\n",
       "  <tbody>\n",
       "    <tr>\n",
       "      <th>0</th>\n",
       "      <td>544660.0</td>\n",
       "      <td>2011-02-22 13:47:00</td>\n",
       "      <td>REGENCY CAKESTAND 3 TIER</td>\n",
       "      <td>0.922634</td>\n",
       "    </tr>\n",
       "    <tr>\n",
       "      <th>1</th>\n",
       "      <td>545035.0</td>\n",
       "      <td>2011-02-25 17:03:00</td>\n",
       "      <td>JUMBO BAG STRAWBERRY</td>\n",
       "      <td>0.992232</td>\n",
       "    </tr>\n",
       "    <tr>\n",
       "      <th>2</th>\n",
       "      <td>545035.0</td>\n",
       "      <td>2011-02-25 17:03:00</td>\n",
       "      <td>JUMBO BAG SCANDINAVIAN PAISLEY</td>\n",
       "      <td>0.989103</td>\n",
       "    </tr>\n",
       "    <tr>\n",
       "      <th>3</th>\n",
       "      <td>545035.0</td>\n",
       "      <td>2011-02-25 17:03:00</td>\n",
       "      <td>RECYCLING BAG RETROSPOT</td>\n",
       "      <td>0.982352</td>\n",
       "    </tr>\n",
       "    <tr>\n",
       "      <th>4</th>\n",
       "      <td>545035.0</td>\n",
       "      <td>2011-02-25 17:03:00</td>\n",
       "      <td>JUMBO BAG TOYS</td>\n",
       "      <td>0.976693</td>\n",
       "    </tr>\n",
       "    <tr>\n",
       "      <th>5</th>\n",
       "      <td>545035.0</td>\n",
       "      <td>2011-02-25 17:03:00</td>\n",
       "      <td>JUMBO BAG WOODLAND ANIMALS</td>\n",
       "      <td>0.974607</td>\n",
       "    </tr>\n",
       "    <tr>\n",
       "      <th>6</th>\n",
       "      <td>545035.0</td>\n",
       "      <td>2011-02-25 17:03:00</td>\n",
       "      <td>SET5 RETROSPOT LID GLASS BOWLS</td>\n",
       "      <td>0.949926</td>\n",
       "    </tr>\n",
       "    <tr>\n",
       "      <th>7</th>\n",
       "      <td>545035.0</td>\n",
       "      <td>2011-02-25 17:03:00</td>\n",
       "      <td>REGENCY CAKESTAND 3 TIER</td>\n",
       "      <td>0.922634</td>\n",
       "    </tr>\n",
       "    <tr>\n",
       "      <th>8</th>\n",
       "      <td>545035.0</td>\n",
       "      <td>2011-02-25 17:03:00</td>\n",
       "      <td>JUMBO STORAGE BAG SKULLS</td>\n",
       "      <td>0.900487</td>\n",
       "    </tr>\n",
       "    <tr>\n",
       "      <th>9</th>\n",
       "      <td>545035.0</td>\n",
       "      <td>2011-02-25 17:03:00</td>\n",
       "      <td>LUNCH BAG RETROSPOT</td>\n",
       "      <td>0.886227</td>\n",
       "    </tr>\n",
       "    <tr>\n",
       "      <th>10</th>\n",
       "      <td>545035.0</td>\n",
       "      <td>2011-02-25 17:03:00</td>\n",
       "      <td>TRAVEL SEWING KIT</td>\n",
       "      <td>0.869614</td>\n",
       "    </tr>\n",
       "    <tr>\n",
       "      <th>11</th>\n",
       "      <td>545035.0</td>\n",
       "      <td>2011-02-25 17:03:00</td>\n",
       "      <td>NO SINGING METAL SIGN</td>\n",
       "      <td>0.852227</td>\n",
       "    </tr>\n",
       "  </tbody>\n",
       "</table>\n",
       "</div>"
      ],
      "text/plain": [
       "      BillNo                Date               Recommended Items     score\n",
       "0   544660.0 2011-02-22 13:47:00        REGENCY CAKESTAND 3 TIER  0.922634\n",
       "1   545035.0 2011-02-25 17:03:00            JUMBO BAG STRAWBERRY  0.992232\n",
       "2   545035.0 2011-02-25 17:03:00  JUMBO BAG SCANDINAVIAN PAISLEY  0.989103\n",
       "3   545035.0 2011-02-25 17:03:00         RECYCLING BAG RETROSPOT  0.982352\n",
       "4   545035.0 2011-02-25 17:03:00                  JUMBO BAG TOYS  0.976693\n",
       "5   545035.0 2011-02-25 17:03:00      JUMBO BAG WOODLAND ANIMALS  0.974607\n",
       "6   545035.0 2011-02-25 17:03:00  SET5 RETROSPOT LID GLASS BOWLS  0.949926\n",
       "7   545035.0 2011-02-25 17:03:00        REGENCY CAKESTAND 3 TIER  0.922634\n",
       "8   545035.0 2011-02-25 17:03:00        JUMBO STORAGE BAG SKULLS  0.900487\n",
       "9   545035.0 2011-02-25 17:03:00             LUNCH BAG RETROSPOT  0.886227\n",
       "10  545035.0 2011-02-25 17:03:00               TRAVEL SEWING KIT  0.869614\n",
       "11  545035.0 2011-02-25 17:03:00           NO SINGING METAL SIGN  0.852227"
      ]
     },
     "metadata": {},
     "output_type": "display_data"
    },
    {
     "name": "stdout",
     "output_type": "stream",
     "text": [
      "customer id: 17027\n",
      "Number of Bill: 2\n",
      "Number of Items actual bought: 38\n"
     ]
    },
    {
     "data": {
      "text/html": [
       "<div>\n",
       "<style scoped>\n",
       "    .dataframe tbody tr th:only-of-type {\n",
       "        vertical-align: middle;\n",
       "    }\n",
       "\n",
       "    .dataframe tbody tr th {\n",
       "        vertical-align: top;\n",
       "    }\n",
       "\n",
       "    .dataframe thead th {\n",
       "        text-align: right;\n",
       "    }\n",
       "</style>\n",
       "<table border=\"1\" class=\"dataframe\">\n",
       "  <thead>\n",
       "    <tr style=\"text-align: right;\">\n",
       "      <th></th>\n",
       "      <th>BillNo</th>\n",
       "      <th>Date</th>\n",
       "      <th>Recommended Items</th>\n",
       "      <th>score</th>\n",
       "    </tr>\n",
       "  </thead>\n",
       "  <tbody>\n",
       "    <tr>\n",
       "      <th>0</th>\n",
       "      <td>545166.0</td>\n",
       "      <td>2011-02-28 14:03:00</td>\n",
       "      <td>SET OF 3 CAKE TINS PANTRY DESIGN</td>\n",
       "      <td>1.089714</td>\n",
       "    </tr>\n",
       "    <tr>\n",
       "      <th>1</th>\n",
       "      <td>545166.0</td>\n",
       "      <td>2011-02-28 14:03:00</td>\n",
       "      <td>SET OF 6 SPICE TINS PANTRY DESIGN</td>\n",
       "      <td>1.049894</td>\n",
       "    </tr>\n",
       "    <tr>\n",
       "      <th>2</th>\n",
       "      <td>545166.0</td>\n",
       "      <td>2011-02-28 14:03:00</td>\n",
       "      <td>6 RIBBONS RUSTIC CHARM</td>\n",
       "      <td>0.945799</td>\n",
       "    </tr>\n",
       "    <tr>\n",
       "      <th>3</th>\n",
       "      <td>545166.0</td>\n",
       "      <td>2011-02-28 14:03:00</td>\n",
       "      <td>RIBBON REEL STRIPES DESIGN</td>\n",
       "      <td>0.878205</td>\n",
       "    </tr>\n",
       "    <tr>\n",
       "      <th>4</th>\n",
       "      <td>545166.0</td>\n",
       "      <td>2011-02-28 14:03:00</td>\n",
       "      <td>CHOCOLATE BOX RIBBONS</td>\n",
       "      <td>0.823455</td>\n",
       "    </tr>\n",
       "    <tr>\n",
       "      <th>5</th>\n",
       "      <td>545166.0</td>\n",
       "      <td>2011-02-28 14:03:00</td>\n",
       "      <td>IVORY GIANT GARDEN THERMOMETER</td>\n",
       "      <td>0.815622</td>\n",
       "    </tr>\n",
       "    <tr>\n",
       "      <th>6</th>\n",
       "      <td>545306.0</td>\n",
       "      <td>2011-03-01 13:04:00</td>\n",
       "      <td>RIBBON REEL HEARTS DESIGN</td>\n",
       "      <td>0.876576</td>\n",
       "    </tr>\n",
       "  </tbody>\n",
       "</table>\n",
       "</div>"
      ],
      "text/plain": [
       "     BillNo                Date                  Recommended Items     score\n",
       "0  545166.0 2011-02-28 14:03:00   SET OF 3 CAKE TINS PANTRY DESIGN  1.089714\n",
       "1  545166.0 2011-02-28 14:03:00  SET OF 6 SPICE TINS PANTRY DESIGN  1.049894\n",
       "2  545166.0 2011-02-28 14:03:00             6 RIBBONS RUSTIC CHARM  0.945799\n",
       "3  545166.0 2011-02-28 14:03:00         RIBBON REEL STRIPES DESIGN  0.878205\n",
       "4  545166.0 2011-02-28 14:03:00              CHOCOLATE BOX RIBBONS  0.823455\n",
       "5  545166.0 2011-02-28 14:03:00     IVORY GIANT GARDEN THERMOMETER  0.815622\n",
       "6  545306.0 2011-03-01 13:04:00          RIBBON REEL HEARTS DESIGN  0.876576"
      ]
     },
     "metadata": {},
     "output_type": "display_data"
    },
    {
     "name": "stdout",
     "output_type": "stream",
     "text": [
      "customer id: 14532\n",
      "Number of Bill: 1\n",
      "Number of Items actual bought: 20\n"
     ]
    },
    {
     "data": {
      "text/html": [
       "<div>\n",
       "<style scoped>\n",
       "    .dataframe tbody tr th:only-of-type {\n",
       "        vertical-align: middle;\n",
       "    }\n",
       "\n",
       "    .dataframe tbody tr th {\n",
       "        vertical-align: top;\n",
       "    }\n",
       "\n",
       "    .dataframe thead th {\n",
       "        text-align: right;\n",
       "    }\n",
       "</style>\n",
       "<table border=\"1\" class=\"dataframe\">\n",
       "  <thead>\n",
       "    <tr style=\"text-align: right;\">\n",
       "      <th></th>\n",
       "      <th>BillNo</th>\n",
       "      <th>Date</th>\n",
       "      <th>Recommended Items</th>\n",
       "      <th>score</th>\n",
       "    </tr>\n",
       "  </thead>\n",
       "  <tbody>\n",
       "    <tr>\n",
       "      <th>0</th>\n",
       "      <td>545037.0</td>\n",
       "      <td>2011-02-27 10:02:00</td>\n",
       "      <td>DOORMAT RETROSPOT</td>\n",
       "      <td>1.083338</td>\n",
       "    </tr>\n",
       "    <tr>\n",
       "      <th>1</th>\n",
       "      <td>545037.0</td>\n",
       "      <td>2011-02-27 10:02:00</td>\n",
       "      <td>DOORMAT HEARTS</td>\n",
       "      <td>1.045678</td>\n",
       "    </tr>\n",
       "    <tr>\n",
       "      <th>2</th>\n",
       "      <td>545037.0</td>\n",
       "      <td>2011-02-27 10:02:00</td>\n",
       "      <td>DOORMAT UNION FLAG</td>\n",
       "      <td>0.984623</td>\n",
       "    </tr>\n",
       "    <tr>\n",
       "      <th>3</th>\n",
       "      <td>545037.0</td>\n",
       "      <td>2011-02-27 10:02:00</td>\n",
       "      <td>DOORMAT ENGLISH ROSE</td>\n",
       "      <td>0.916704</td>\n",
       "    </tr>\n",
       "    <tr>\n",
       "      <th>4</th>\n",
       "      <td>545037.0</td>\n",
       "      <td>2011-02-27 10:02:00</td>\n",
       "      <td>DOORMAT 3 SMILEY CATS</td>\n",
       "      <td>0.899454</td>\n",
       "    </tr>\n",
       "    <tr>\n",
       "      <th>5</th>\n",
       "      <td>545037.0</td>\n",
       "      <td>2011-02-27 10:02:00</td>\n",
       "      <td>DOORMAT TOPIARY</td>\n",
       "      <td>0.843728</td>\n",
       "    </tr>\n",
       "    <tr>\n",
       "      <th>6</th>\n",
       "      <td>545037.0</td>\n",
       "      <td>2011-02-27 10:02:00</td>\n",
       "      <td>DOORMAT WELCOME PUPPIES</td>\n",
       "      <td>0.843676</td>\n",
       "    </tr>\n",
       "    <tr>\n",
       "      <th>7</th>\n",
       "      <td>545037.0</td>\n",
       "      <td>2011-02-27 10:02:00</td>\n",
       "      <td>DOORMAT SPOTTY HOME SWEET HOME</td>\n",
       "      <td>0.806069</td>\n",
       "    </tr>\n",
       "    <tr>\n",
       "      <th>8</th>\n",
       "      <td>545037.0</td>\n",
       "      <td>2011-02-27 10:02:00</td>\n",
       "      <td>DOORMAT HOME SWEET HOME</td>\n",
       "      <td>0.764076</td>\n",
       "    </tr>\n",
       "    <tr>\n",
       "      <th>9</th>\n",
       "      <td>545037.0</td>\n",
       "      <td>2011-02-27 10:02:00</td>\n",
       "      <td>DOORMAT AIRMAIL</td>\n",
       "      <td>0.752923</td>\n",
       "    </tr>\n",
       "    <tr>\n",
       "      <th>10</th>\n",
       "      <td>545037.0</td>\n",
       "      <td>2011-02-27 10:02:00</td>\n",
       "      <td>DOORMAT MULTICOLOUR STRIPE</td>\n",
       "      <td>0.706182</td>\n",
       "    </tr>\n",
       "    <tr>\n",
       "      <th>11</th>\n",
       "      <td>545037.0</td>\n",
       "      <td>2011-02-27 10:02:00</td>\n",
       "      <td>DOORMAT NEW ENGLAND</td>\n",
       "      <td>0.651942</td>\n",
       "    </tr>\n",
       "    <tr>\n",
       "      <th>12</th>\n",
       "      <td>545037.0</td>\n",
       "      <td>2011-02-27 10:02:00</td>\n",
       "      <td>DOORMAT FLOCK</td>\n",
       "      <td>0.526591</td>\n",
       "    </tr>\n",
       "    <tr>\n",
       "      <th>13</th>\n",
       "      <td>545037.0</td>\n",
       "      <td>2011-02-27 10:02:00</td>\n",
       "      <td>DOORMAT FAIRY CAKE</td>\n",
       "      <td>0.494164</td>\n",
       "    </tr>\n",
       "    <tr>\n",
       "      <th>14</th>\n",
       "      <td>545037.0</td>\n",
       "      <td>2011-02-27 10:02:00</td>\n",
       "      <td>DOORMAT RESPECTABLE HOUSE</td>\n",
       "      <td>0.382941</td>\n",
       "    </tr>\n",
       "    <tr>\n",
       "      <th>15</th>\n",
       "      <td>545037.0</td>\n",
       "      <td>2011-02-27 10:02:00</td>\n",
       "      <td>DOORMAT UNION JACK GUNS AND ROSES</td>\n",
       "      <td>0.249328</td>\n",
       "    </tr>\n",
       "  </tbody>\n",
       "</table>\n",
       "</div>"
      ],
      "text/plain": [
       "      BillNo                Date                  Recommended Items     score\n",
       "0   545037.0 2011-02-27 10:02:00                  DOORMAT RETROSPOT  1.083338\n",
       "1   545037.0 2011-02-27 10:02:00                     DOORMAT HEARTS  1.045678\n",
       "2   545037.0 2011-02-27 10:02:00                 DOORMAT UNION FLAG  0.984623\n",
       "3   545037.0 2011-02-27 10:02:00               DOORMAT ENGLISH ROSE  0.916704\n",
       "4   545037.0 2011-02-27 10:02:00              DOORMAT 3 SMILEY CATS  0.899454\n",
       "5   545037.0 2011-02-27 10:02:00                    DOORMAT TOPIARY  0.843728\n",
       "6   545037.0 2011-02-27 10:02:00            DOORMAT WELCOME PUPPIES  0.843676\n",
       "7   545037.0 2011-02-27 10:02:00     DOORMAT SPOTTY HOME SWEET HOME  0.806069\n",
       "8   545037.0 2011-02-27 10:02:00            DOORMAT HOME SWEET HOME  0.764076\n",
       "9   545037.0 2011-02-27 10:02:00                    DOORMAT AIRMAIL  0.752923\n",
       "10  545037.0 2011-02-27 10:02:00         DOORMAT MULTICOLOUR STRIPE  0.706182\n",
       "11  545037.0 2011-02-27 10:02:00                DOORMAT NEW ENGLAND  0.651942\n",
       "12  545037.0 2011-02-27 10:02:00                      DOORMAT FLOCK  0.526591\n",
       "13  545037.0 2011-02-27 10:02:00                 DOORMAT FAIRY CAKE  0.494164\n",
       "14  545037.0 2011-02-27 10:02:00          DOORMAT RESPECTABLE HOUSE  0.382941\n",
       "15  545037.0 2011-02-27 10:02:00  DOORMAT UNION JACK GUNS AND ROSES  0.249328"
      ]
     },
     "metadata": {},
     "output_type": "display_data"
    },
    {
     "name": "stdout",
     "output_type": "stream",
     "text": [
      "customer id: 15092 is a new customer\n",
      "Number of Bill: 1\n",
      "Number of Items actual bought: 13\n"
     ]
    },
    {
     "data": {
      "text/html": [
       "<div>\n",
       "<style scoped>\n",
       "    .dataframe tbody tr th:only-of-type {\n",
       "        vertical-align: middle;\n",
       "    }\n",
       "\n",
       "    .dataframe tbody tr th {\n",
       "        vertical-align: top;\n",
       "    }\n",
       "\n",
       "    .dataframe thead th {\n",
       "        text-align: right;\n",
       "    }\n",
       "</style>\n",
       "<table border=\"1\" class=\"dataframe\">\n",
       "  <thead>\n",
       "    <tr style=\"text-align: right;\">\n",
       "      <th></th>\n",
       "      <th>BillNo</th>\n",
       "      <th>Date</th>\n",
       "      <th>Recommended Items</th>\n",
       "      <th>score</th>\n",
       "    </tr>\n",
       "  </thead>\n",
       "  <tbody>\n",
       "  </tbody>\n",
       "</table>\n",
       "</div>"
      ],
      "text/plain": [
       "Empty DataFrame\n",
       "Columns: [BillNo, Date, Recommended Items, score]\n",
       "Index: []"
      ]
     },
     "metadata": {},
     "output_type": "display_data"
    }
   ],
   "source": [
    "for cust in cust_test:\n",
    "    if cust in list_new_cust:\n",
    "        print(f\"customer id: {cust} is a new customer\")\n",
    "    else:\n",
    "        print(f\"customer id: {cust}\")\n",
    "        # item_recommendation_df = item_recommendation(cust)\n",
    "        \n",
    "    print(f\"Number of Bill: {df_test.loc[df_test.CustomerID == cust]['BillNo'].nunique()}\")\n",
    "    print(f\"Number of Items actual bought: {df_test.loc[df_test.CustomerID == cust]['Itemname'].nunique()}\")\n",
    "    display(item_recommendation(cust).sort_values('Date').reset_index(drop=True))"
   ]
  },
  {
   "cell_type": "markdown",
   "metadata": {},
   "source": [
    "# References\n",
    "* Hu, Y., Koren, Y. and Volinsky, C. (2008). Collaborative Filtering for Implicit Feedback Datasets. 2008 Eighth IEEE International Conference on Data Mining. doi:https://doi.org/10.1109/icdm.2008.22.\n",
    "* www.shaped.ai. (n.d.). Evaluating recommendation systems (mAP, MMR, NDCG) | Shaped Blog. [online] Available at: https://www.shaped.ai/blog/evaluating-recommendation-systems-map-mmr-ndcg."
   ]
  }
 ],
 "metadata": {
  "kernelspec": {
   "display_name": "mbd_assignment_2",
   "language": "python",
   "name": "python3"
  },
  "language_info": {
   "codemirror_mode": {
    "name": "ipython",
    "version": 3
   },
   "file_extension": ".py",
   "mimetype": "text/x-python",
   "name": "python",
   "nbconvert_exporter": "python",
   "pygments_lexer": "ipython3",
   "version": "3.11.4"
  }
 },
 "nbformat": 4,
 "nbformat_minor": 2
}
